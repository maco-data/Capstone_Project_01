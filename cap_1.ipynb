{
 "cells": [
  {
   "cell_type": "markdown",
   "metadata": {},
   "source": [
    "# __Google Data Analytics Certificate - Capstone Project__<br>\n",
    "## Bike Sharing - Case Study\n",
    "***\n",
    "This is the first project done for the Google certificate course. The approached to work on this project was guided in 3 different ways:<br><br>\n",
    "- Using Spreadsheet (Excel or Google Sheet)<br>\n",
    "- Using Structure Query Language (SQL)<br>\n",
    "- Using R and R Studio<br><br>\n",
    "\n",
    "But I decided to make my analysis using Python and Jupyter Notebooks as is the tool I have more experience with and try a little bit of Tableu to share the visualizations.<br><br>\n",
    "\n",
    "### A little about the company:<br>\n",
    "\n",
    "Cyclistic (a fictional company), is a bike-sharing company in Chicago. The director of marketing believes the company’s future success depends on maximizing the number of annual memberships.<br><br>\n",
    "\n",
    "### Goals of this project<br>\n",
    "- Apply everything learn about the data analysis process (Ask, Prepare, Process, Analyze, Share, and Act).\n",
    "- Demonstrate my knowledge and skills to potential employers.<br><br>\n",
    "\n",
    "`Disclaimer: The data has been made available by Motivate International Inc. The dataset was used solely for educationanl purposes.`\n",
    "\n"
   ]
  },
  {
   "cell_type": "markdown",
   "metadata": {},
   "source": [
    "# __Data Preparation__\n",
    "***\n",
    "### Key tasks\n",
    "• Download data and store it appropriately (last 12 months).<br>\n",
    ">Data was downloaded and rename appropiately\n",
    "\n",
    "• Identify how it’s organized.\n",
    "\n",
    "• Sort and filter the data.<br>\n",
    ">Data was place in a subfolder called \"Archive\"\n",
    "\n",
    "• Determine the credibility of the data.<br>\n",
    ">The data has been made available by Motivate International Inc. This is public data that can be use to explore how diferent customer types are using the service.<br>\n",
    ">License: `https://www.divvybikes.com/data-license-agreement`"
   ]
  },
  {
   "cell_type": "code",
   "execution_count": 3,
   "metadata": {},
   "outputs": [],
   "source": [
    "# Import the libraries\n",
    "import pandas as pd\n",
    "import numpy as np\n",
    "import matplotlib.pyplot as plt\n",
    "import seaborn as sns"
   ]
  },
  {
   "cell_type": "code",
   "execution_count": 4,
   "metadata": {},
   "outputs": [],
   "source": [
    "# Importing the files\n",
    "case_file_1 = pd.read_csv(\"Archive/202010-Cyclistic-tripdata.csv\")\n",
    "case_file_2 = pd.read_csv(\"Archive/202011-Cyclistic-tripdata.csv\")\n",
    "case_file_3 = pd.read_csv(\"Archive/202012-Cyclistic-tripdata.csv\")\n",
    "case_file_4 = pd.read_csv(\"Archive/202101-Cyclistic-tripdata.csv\")\n",
    "case_file_5 = pd.read_csv(\"Archive/202102-Cyclistic-tripdata.csv\")\n",
    "case_file_6 = pd.read_csv(\"Archive/202103-Cyclistic-tripdata.csv\")\n",
    "case_file_7 = pd.read_csv(\"Archive/202104-Cyclistic-tripdata.csv\")\n",
    "case_file_8 = pd.read_csv(\"Archive/202105-Cyclistic-tripdata.csv\")\n",
    "case_file_9 = pd.read_csv(\"Archive/202106-Cyclistic-tripdata.csv\")\n",
    "case_file_10 = pd.read_csv(\"Archive/202107-Cyclistic-tripdata.csv\")\n",
    "case_file_11 = pd.read_csv(\"Archive/202108-Cyclistic-tripdata.csv\")\n",
    "case_file_12 = pd.read_csv(\"Archive/202109-Cyclistic-tripdata.csv\")"
   ]
  },
  {
   "cell_type": "code",
   "execution_count": 5,
   "metadata": {},
   "outputs": [],
   "source": [
    "# Making all the dataframes into a single dataframe\n",
    "all_dfs = [case_file_1, case_file_2, case_file_3,\n",
    "           case_file_4, case_file_5, case_file_6, case_file_7, case_file_8, case_file_9, case_file_10, case_file_11, case_file_12]\n",
    "\n",
    "case_file = pd.concat(all_dfs)\n",
    "\n",
    "df = case_file"
   ]
  },
  {
   "cell_type": "code",
   "execution_count": 6,
   "metadata": {},
   "outputs": [
    {
     "data": {
      "text/html": [
       "<div>\n",
       "<style scoped>\n",
       "    .dataframe tbody tr th:only-of-type {\n",
       "        vertical-align: middle;\n",
       "    }\n",
       "\n",
       "    .dataframe tbody tr th {\n",
       "        vertical-align: top;\n",
       "    }\n",
       "\n",
       "    .dataframe thead th {\n",
       "        text-align: right;\n",
       "    }\n",
       "</style>\n",
       "<table border=\"1\" class=\"dataframe\">\n",
       "  <thead>\n",
       "    <tr style=\"text-align: right;\">\n",
       "      <th></th>\n",
       "      <th>ride_id</th>\n",
       "      <th>rideable_type</th>\n",
       "      <th>started_at</th>\n",
       "      <th>ended_at</th>\n",
       "      <th>start_station_name</th>\n",
       "      <th>start_station_id</th>\n",
       "      <th>end_station_name</th>\n",
       "      <th>end_station_id</th>\n",
       "      <th>start_lat</th>\n",
       "      <th>start_lng</th>\n",
       "      <th>end_lat</th>\n",
       "      <th>end_lng</th>\n",
       "      <th>member_casual</th>\n",
       "    </tr>\n",
       "  </thead>\n",
       "  <tbody>\n",
       "    <tr>\n",
       "      <th>0</th>\n",
       "      <td>ACB6B40CF5B9044C</td>\n",
       "      <td>electric_bike</td>\n",
       "      <td>2020-10-31 19:39:43</td>\n",
       "      <td>2020-10-31 19:57:12</td>\n",
       "      <td>Lakeview Ave &amp; Fullerton Pkwy</td>\n",
       "      <td>313.0</td>\n",
       "      <td>Rush St &amp; Hubbard St</td>\n",
       "      <td>125.0</td>\n",
       "      <td>41.926101</td>\n",
       "      <td>-87.638977</td>\n",
       "      <td>41.890345</td>\n",
       "      <td>-87.626068</td>\n",
       "      <td>casual</td>\n",
       "    </tr>\n",
       "    <tr>\n",
       "      <th>1</th>\n",
       "      <td>DF450C72FD109C01</td>\n",
       "      <td>electric_bike</td>\n",
       "      <td>2020-10-31 23:50:08</td>\n",
       "      <td>2020-11-01 00:04:16</td>\n",
       "      <td>Southport Ave &amp; Waveland Ave</td>\n",
       "      <td>227.0</td>\n",
       "      <td>Kedzie Ave &amp; Milwaukee Ave</td>\n",
       "      <td>260.0</td>\n",
       "      <td>41.948172</td>\n",
       "      <td>-87.663911</td>\n",
       "      <td>41.929528</td>\n",
       "      <td>-87.707818</td>\n",
       "      <td>casual</td>\n",
       "    </tr>\n",
       "    <tr>\n",
       "      <th>2</th>\n",
       "      <td>B6396B54A15AC0DF</td>\n",
       "      <td>electric_bike</td>\n",
       "      <td>2020-10-31 23:00:01</td>\n",
       "      <td>2020-10-31 23:08:22</td>\n",
       "      <td>Stony Island Ave &amp; 67th St</td>\n",
       "      <td>102.0</td>\n",
       "      <td>University Ave &amp; 57th St</td>\n",
       "      <td>423.0</td>\n",
       "      <td>41.773462</td>\n",
       "      <td>-87.585372</td>\n",
       "      <td>41.791455</td>\n",
       "      <td>-87.600050</td>\n",
       "      <td>casual</td>\n",
       "    </tr>\n",
       "    <tr>\n",
       "      <th>3</th>\n",
       "      <td>44A4AEE261B9E854</td>\n",
       "      <td>electric_bike</td>\n",
       "      <td>2020-10-31 22:16:43</td>\n",
       "      <td>2020-10-31 22:19:35</td>\n",
       "      <td>Clark St &amp; Grace St</td>\n",
       "      <td>165.0</td>\n",
       "      <td>Broadway &amp; Sheridan Rd</td>\n",
       "      <td>256.0</td>\n",
       "      <td>41.950855</td>\n",
       "      <td>-87.659244</td>\n",
       "      <td>41.952809</td>\n",
       "      <td>-87.650103</td>\n",
       "      <td>casual</td>\n",
       "    </tr>\n",
       "    <tr>\n",
       "      <th>4</th>\n",
       "      <td>10B7DD76A6A2EB95</td>\n",
       "      <td>electric_bike</td>\n",
       "      <td>2020-10-31 19:38:19</td>\n",
       "      <td>2020-10-31 19:54:32</td>\n",
       "      <td>Southport Ave &amp; Wrightwood Ave</td>\n",
       "      <td>190.0</td>\n",
       "      <td>Stave St &amp; Armitage Ave</td>\n",
       "      <td>185.0</td>\n",
       "      <td>41.928857</td>\n",
       "      <td>-87.663962</td>\n",
       "      <td>41.917777</td>\n",
       "      <td>-87.691434</td>\n",
       "      <td>casual</td>\n",
       "    </tr>\n",
       "    <tr>\n",
       "      <th>...</th>\n",
       "      <td>...</td>\n",
       "      <td>...</td>\n",
       "      <td>...</td>\n",
       "      <td>...</td>\n",
       "      <td>...</td>\n",
       "      <td>...</td>\n",
       "      <td>...</td>\n",
       "      <td>...</td>\n",
       "      <td>...</td>\n",
       "      <td>...</td>\n",
       "      <td>...</td>\n",
       "      <td>...</td>\n",
       "      <td>...</td>\n",
       "    </tr>\n",
       "    <tr>\n",
       "      <th>756142</th>\n",
       "      <td>FA66BCAB0D73DDC2</td>\n",
       "      <td>classic_bike</td>\n",
       "      <td>2021-09-22 15:46:57</td>\n",
       "      <td>2021-09-22 16:01:15</td>\n",
       "      <td>Ellis Ave &amp; 83rd St</td>\n",
       "      <td>584</td>\n",
       "      <td>Stony Island Ave &amp; 75th St</td>\n",
       "      <td>KA1503000019</td>\n",
       "      <td>41.744123</td>\n",
       "      <td>-87.599034</td>\n",
       "      <td>41.758670</td>\n",
       "      <td>-87.586883</td>\n",
       "      <td>casual</td>\n",
       "    </tr>\n",
       "    <tr>\n",
       "      <th>756143</th>\n",
       "      <td>1D44DEFB5D36CA04</td>\n",
       "      <td>classic_bike</td>\n",
       "      <td>2021-09-25 16:25:23</td>\n",
       "      <td>2021-09-25 16:40:29</td>\n",
       "      <td>Ellis Ave &amp; 60th St</td>\n",
       "      <td>KA1503000014</td>\n",
       "      <td>Shore Dr &amp; 55th St</td>\n",
       "      <td>TA1308000009</td>\n",
       "      <td>41.785097</td>\n",
       "      <td>-87.601073</td>\n",
       "      <td>41.795212</td>\n",
       "      <td>-87.580715</td>\n",
       "      <td>casual</td>\n",
       "    </tr>\n",
       "    <tr>\n",
       "      <th>756144</th>\n",
       "      <td>6A346EA57FC23C45</td>\n",
       "      <td>classic_bike</td>\n",
       "      <td>2021-09-25 16:26:05</td>\n",
       "      <td>2021-09-25 16:40:30</td>\n",
       "      <td>Ellis Ave &amp; 60th St</td>\n",
       "      <td>KA1503000014</td>\n",
       "      <td>Shore Dr &amp; 55th St</td>\n",
       "      <td>TA1308000009</td>\n",
       "      <td>41.785097</td>\n",
       "      <td>-87.601073</td>\n",
       "      <td>41.795212</td>\n",
       "      <td>-87.580715</td>\n",
       "      <td>casual</td>\n",
       "    </tr>\n",
       "    <tr>\n",
       "      <th>756145</th>\n",
       "      <td>49360AFD771100A6</td>\n",
       "      <td>classic_bike</td>\n",
       "      <td>2021-09-15 17:57:48</td>\n",
       "      <td>2021-09-15 18:24:06</td>\n",
       "      <td>Ellis Ave &amp; 60th St</td>\n",
       "      <td>KA1503000014</td>\n",
       "      <td>Shore Dr &amp; 55th St</td>\n",
       "      <td>TA1308000009</td>\n",
       "      <td>41.785097</td>\n",
       "      <td>-87.601073</td>\n",
       "      <td>41.795212</td>\n",
       "      <td>-87.580715</td>\n",
       "      <td>casual</td>\n",
       "    </tr>\n",
       "    <tr>\n",
       "      <th>756146</th>\n",
       "      <td>343190A2DC023FED</td>\n",
       "      <td>electric_bike</td>\n",
       "      <td>2021-09-11 18:01:06</td>\n",
       "      <td>2021-09-11 18:08:26</td>\n",
       "      <td>Wells St &amp; Huron St</td>\n",
       "      <td>TA1306000012</td>\n",
       "      <td>Clinton St &amp; Lake St</td>\n",
       "      <td>13021</td>\n",
       "      <td>41.894887</td>\n",
       "      <td>-87.634343</td>\n",
       "      <td>41.885771</td>\n",
       "      <td>-87.641373</td>\n",
       "      <td>member</td>\n",
       "    </tr>\n",
       "  </tbody>\n",
       "</table>\n",
       "<p>5136261 rows × 13 columns</p>\n",
       "</div>"
      ],
      "text/plain": [
       "                 ride_id  rideable_type           started_at  \\\n",
       "0       ACB6B40CF5B9044C  electric_bike  2020-10-31 19:39:43   \n",
       "1       DF450C72FD109C01  electric_bike  2020-10-31 23:50:08   \n",
       "2       B6396B54A15AC0DF  electric_bike  2020-10-31 23:00:01   \n",
       "3       44A4AEE261B9E854  electric_bike  2020-10-31 22:16:43   \n",
       "4       10B7DD76A6A2EB95  electric_bike  2020-10-31 19:38:19   \n",
       "...                  ...            ...                  ...   \n",
       "756142  FA66BCAB0D73DDC2   classic_bike  2021-09-22 15:46:57   \n",
       "756143  1D44DEFB5D36CA04   classic_bike  2021-09-25 16:25:23   \n",
       "756144  6A346EA57FC23C45   classic_bike  2021-09-25 16:26:05   \n",
       "756145  49360AFD771100A6   classic_bike  2021-09-15 17:57:48   \n",
       "756146  343190A2DC023FED  electric_bike  2021-09-11 18:01:06   \n",
       "\n",
       "                   ended_at              start_station_name start_station_id  \\\n",
       "0       2020-10-31 19:57:12   Lakeview Ave & Fullerton Pkwy            313.0   \n",
       "1       2020-11-01 00:04:16    Southport Ave & Waveland Ave            227.0   \n",
       "2       2020-10-31 23:08:22      Stony Island Ave & 67th St            102.0   \n",
       "3       2020-10-31 22:19:35             Clark St & Grace St            165.0   \n",
       "4       2020-10-31 19:54:32  Southport Ave & Wrightwood Ave            190.0   \n",
       "...                     ...                             ...              ...   \n",
       "756142  2021-09-22 16:01:15             Ellis Ave & 83rd St              584   \n",
       "756143  2021-09-25 16:40:29             Ellis Ave & 60th St     KA1503000014   \n",
       "756144  2021-09-25 16:40:30             Ellis Ave & 60th St     KA1503000014   \n",
       "756145  2021-09-15 18:24:06             Ellis Ave & 60th St     KA1503000014   \n",
       "756146  2021-09-11 18:08:26             Wells St & Huron St     TA1306000012   \n",
       "\n",
       "                  end_station_name end_station_id  start_lat  start_lng  \\\n",
       "0             Rush St & Hubbard St          125.0  41.926101 -87.638977   \n",
       "1       Kedzie Ave & Milwaukee Ave          260.0  41.948172 -87.663911   \n",
       "2         University Ave & 57th St          423.0  41.773462 -87.585372   \n",
       "3           Broadway & Sheridan Rd          256.0  41.950855 -87.659244   \n",
       "4          Stave St & Armitage Ave          185.0  41.928857 -87.663962   \n",
       "...                            ...            ...        ...        ...   \n",
       "756142  Stony Island Ave & 75th St   KA1503000019  41.744123 -87.599034   \n",
       "756143          Shore Dr & 55th St   TA1308000009  41.785097 -87.601073   \n",
       "756144          Shore Dr & 55th St   TA1308000009  41.785097 -87.601073   \n",
       "756145          Shore Dr & 55th St   TA1308000009  41.785097 -87.601073   \n",
       "756146        Clinton St & Lake St          13021  41.894887 -87.634343   \n",
       "\n",
       "          end_lat    end_lng member_casual  \n",
       "0       41.890345 -87.626068        casual  \n",
       "1       41.929528 -87.707818        casual  \n",
       "2       41.791455 -87.600050        casual  \n",
       "3       41.952809 -87.650103        casual  \n",
       "4       41.917777 -87.691434        casual  \n",
       "...           ...        ...           ...  \n",
       "756142  41.758670 -87.586883        casual  \n",
       "756143  41.795212 -87.580715        casual  \n",
       "756144  41.795212 -87.580715        casual  \n",
       "756145  41.795212 -87.580715        casual  \n",
       "756146  41.885771 -87.641373        member  \n",
       "\n",
       "[5136261 rows x 13 columns]"
      ]
     },
     "execution_count": 6,
     "metadata": {},
     "output_type": "execute_result"
    }
   ],
   "source": [
    "# Reading the merged file\n",
    "case_file_5000 = df\n",
    "case_file_5000"
   ]
  },
  {
   "cell_type": "code",
   "execution_count": 7,
   "metadata": {},
   "outputs": [
    {
     "name": "stdout",
     "output_type": "stream",
     "text": [
      "<class 'pandas.core.frame.DataFrame'>\n",
      "Int64Index: 5136261 entries, 0 to 756146\n",
      "Data columns (total 13 columns):\n",
      " #   Column              Dtype  \n",
      "---  ------              -----  \n",
      " 0   ride_id             object \n",
      " 1   rideable_type       object \n",
      " 2   started_at          object \n",
      " 3   ended_at            object \n",
      " 4   start_station_name  object \n",
      " 5   start_station_id    object \n",
      " 6   end_station_name    object \n",
      " 7   end_station_id      object \n",
      " 8   start_lat           float64\n",
      " 9   start_lng           float64\n",
      " 10  end_lat             float64\n",
      " 11  end_lng             float64\n",
      " 12  member_casual       object \n",
      "dtypes: float64(4), object(9)\n",
      "memory usage: 548.6+ MB\n"
     ]
    }
   ],
   "source": [
    "# Getting dataframe information\n",
    "case_file_5000.info()"
   ]
  },
  {
   "cell_type": "code",
   "execution_count": 8,
   "metadata": {},
   "outputs": [],
   "source": [
    "# Converting object data type of start_time and end_time columns into datetime data type\n",
    "case_file_5000[\"start_time\"] = pd.to_datetime(case_file_5000[\"started_at\"])\n",
    "case_file_5000[\"end_time\"] = pd.to_datetime(case_file_5000[\"ended_at\"])"
   ]
  },
  {
   "cell_type": "code",
   "execution_count": 9,
   "metadata": {},
   "outputs": [
    {
     "data": {
      "text/plain": [
       "0        0 days 00:17:29\n",
       "1        0 days 00:14:08\n",
       "2        0 days 00:08:21\n",
       "3        0 days 00:02:52\n",
       "4        0 days 00:16:13\n",
       "               ...      \n",
       "756142   0 days 00:14:18\n",
       "756143   0 days 00:15:06\n",
       "756144   0 days 00:14:25\n",
       "756145   0 days 00:26:18\n",
       "756146   0 days 00:07:20\n",
       "Name: ride_length, Length: 5136261, dtype: timedelta64[ns]"
      ]
     },
     "execution_count": 9,
     "metadata": {},
     "output_type": "execute_result"
    }
   ],
   "source": [
    "# Adding new column \"ride_length\" (ended_at - started_at) to calculate the time travelled\n",
    "case_file_5000[\"ride_length\"] = case_file_5000[\"end_time\"] - case_file_5000[\"start_time\"]\n",
    "case_file_5000[\"ride_length\"]"
   ]
  },
  {
   "cell_type": "code",
   "execution_count": 10,
   "metadata": {},
   "outputs": [
    {
     "name": "stdout",
     "output_type": "stream",
     "text": [
      "<class 'pandas.core.frame.DataFrame'>\n",
      "Int64Index: 5136261 entries, 0 to 756146\n",
      "Data columns (total 16 columns):\n",
      " #   Column              Dtype          \n",
      "---  ------              -----          \n",
      " 0   ride_id             object         \n",
      " 1   rideable_type       object         \n",
      " 2   started_at          object         \n",
      " 3   ended_at            object         \n",
      " 4   start_station_name  object         \n",
      " 5   start_station_id    object         \n",
      " 6   end_station_name    object         \n",
      " 7   end_station_id      object         \n",
      " 8   start_lat           float64        \n",
      " 9   start_lng           float64        \n",
      " 10  end_lat             float64        \n",
      " 11  end_lng             float64        \n",
      " 12  member_casual       object         \n",
      " 13  start_time          datetime64[ns] \n",
      " 14  end_time            datetime64[ns] \n",
      " 15  ride_length         timedelta64[ns]\n",
      "dtypes: datetime64[ns](2), float64(4), object(9), timedelta64[ns](1)\n",
      "memory usage: 666.2+ MB\n"
     ]
    }
   ],
   "source": [
    "# Getting the updated information about the changes made in the data type of dataframe\n",
    "case_file_5000.info()"
   ]
  },
  {
   "cell_type": "code",
   "execution_count": 11,
   "metadata": {},
   "outputs": [
    {
     "data": {
      "text/plain": [
       "0         2020-10-31\n",
       "1         2020-10-31\n",
       "2         2020-10-31\n",
       "3         2020-10-31\n",
       "4         2020-10-31\n",
       "             ...    \n",
       "756142    2021-09-22\n",
       "756143    2021-09-25\n",
       "756144    2021-09-25\n",
       "756145    2021-09-15\n",
       "756146    2021-09-11\n",
       "Name: start_date1, Length: 5136261, dtype: object"
      ]
     },
     "execution_count": 11,
     "metadata": {},
     "output_type": "execute_result"
    }
   ],
   "source": [
    "# Splitting and extracting the date from \"started_at\" column\n",
    "case_file_5000[\"start_date1\"] = [i.split(\" \")[0] for i in case_file_5000[\"started_at\"]]\n",
    "case_file_5000[\"start_date1\"]"
   ]
  },
  {
   "cell_type": "code",
   "execution_count": 12,
   "metadata": {},
   "outputs": [],
   "source": [
    "# Converting start_date1 into datetime data type\n",
    "case_file_5000[\"start_date1\"] = pd.to_datetime(case_file_5000[\"start_date1\"])"
   ]
  },
  {
   "cell_type": "code",
   "execution_count": 13,
   "metadata": {},
   "outputs": [
    {
     "data": {
      "text/plain": [
       "array([5, 3, 2, 6, 0, 1, 4])"
      ]
     },
     "execution_count": 13,
     "metadata": {},
     "output_type": "execute_result"
    }
   ],
   "source": [
    "# Finding the weekday of the date\n",
    "case_file_5000[\"week_day\"] = case_file_5000[\"start_date1\"].apply(lambda x: x.weekday())\n",
    "case_file_5000[\"week_day\"].unique()"
   ]
  },
  {
   "cell_type": "code",
   "execution_count": 14,
   "metadata": {},
   "outputs": [
    {
     "data": {
      "text/plain": [
       "0          Friday\n",
       "1          Friday\n",
       "2          Friday\n",
       "3          Friday\n",
       "4          Friday\n",
       "           ...   \n",
       "756142    Tuesday\n",
       "756143     Friday\n",
       "756144     Friday\n",
       "756145    Tuesday\n",
       "756146     Friday\n",
       "Name: week_day, Length: 5136261, dtype: object"
      ]
     },
     "execution_count": 14,
     "metadata": {},
     "output_type": "execute_result"
    }
   ],
   "source": [
    "# Converting weekday values into weekday\n",
    "dict1 = {0: \"Sunday\", 1: \"Monday\", 2: \"Tuesday\", 3: \"Wednesday\", 4: \"Thursday\", 5: \"Friday\", 6: \"Saturday\"}\n",
    "case_file_5000[\"week_day\"] = case_file_5000[\"week_day\"].apply(lambda y: dict1[y])\n",
    "case_file_5000[\"week_day\"]"
   ]
  },
  {
   "cell_type": "code",
   "execution_count": 15,
   "metadata": {},
   "outputs": [],
   "source": [
    "# Sorting the dataframe by start date in ascending order\n",
    "case_file_5000.sort_values(by=[\"started_at\"], inplace=True, ascending=True)"
   ]
  },
  {
   "cell_type": "code",
   "execution_count": 16,
   "metadata": {},
   "outputs": [],
   "source": [
    "# Dropping all rows with any NaN values\n",
    "case_file_5000_cleaned = case_file_5000.dropna()"
   ]
  },
  {
   "cell_type": "code",
   "execution_count": 17,
   "metadata": {},
   "outputs": [],
   "source": [
    "# Saving the cleaned file for further trasnformation of data\n",
    "case_file_5000_cleaned.to_csv(\"cleaned.csv\")"
   ]
  },
  {
   "cell_type": "code",
   "execution_count": 18,
   "metadata": {},
   "outputs": [
    {
     "name": "stderr",
     "output_type": "stream",
     "text": [
      "/Users/Marco/opt/miniconda3/envs/minimal_ds/lib/python3.9/site-packages/IPython/core/interactiveshell.py:3444: DtypeWarning: Columns (6,8) have mixed types.Specify dtype option on import or set low_memory=False.\n",
      "  exec(code_obj, self.user_global_ns, self.user_ns)\n"
     ]
    }
   ],
   "source": [
    "# Importing the cleaned data file\n",
    "cleaned_file = pd.read_csv(\"cleaned.csv\")"
   ]
  },
  {
   "cell_type": "code",
   "execution_count": 19,
   "metadata": {},
   "outputs": [
    {
     "data": {
      "text/html": [
       "<div>\n",
       "<style scoped>\n",
       "    .dataframe tbody tr th:only-of-type {\n",
       "        vertical-align: middle;\n",
       "    }\n",
       "\n",
       "    .dataframe tbody tr th {\n",
       "        vertical-align: top;\n",
       "    }\n",
       "\n",
       "    .dataframe thead th {\n",
       "        text-align: right;\n",
       "    }\n",
       "</style>\n",
       "<table border=\"1\" class=\"dataframe\">\n",
       "  <thead>\n",
       "    <tr style=\"text-align: right;\">\n",
       "      <th></th>\n",
       "      <th>Unnamed: 0</th>\n",
       "      <th>ride_id</th>\n",
       "      <th>rideable_type</th>\n",
       "      <th>started_at</th>\n",
       "      <th>ended_at</th>\n",
       "      <th>start_station_name</th>\n",
       "      <th>start_station_id</th>\n",
       "      <th>end_station_name</th>\n",
       "      <th>end_station_id</th>\n",
       "      <th>start_lat</th>\n",
       "      <th>start_lng</th>\n",
       "      <th>end_lat</th>\n",
       "      <th>end_lng</th>\n",
       "      <th>member_casual</th>\n",
       "      <th>start_time</th>\n",
       "      <th>end_time</th>\n",
       "      <th>ride_length</th>\n",
       "      <th>start_date1</th>\n",
       "      <th>week_day</th>\n",
       "    </tr>\n",
       "  </thead>\n",
       "  <tbody>\n",
       "    <tr>\n",
       "      <th>0</th>\n",
       "      <td>223767</td>\n",
       "      <td>D7AF692CFFAF7D2C</td>\n",
       "      <td>docked_bike</td>\n",
       "      <td>2020-10-01 00:00:06</td>\n",
       "      <td>2020-10-01 00:19:08</td>\n",
       "      <td>Lincoln Ave &amp; Diversey Pkwy</td>\n",
       "      <td>152.0</td>\n",
       "      <td>Clarendon Ave &amp; Junior Ter</td>\n",
       "      <td>245.0</td>\n",
       "      <td>41.932225</td>\n",
       "      <td>-87.658617</td>\n",
       "      <td>41.961004</td>\n",
       "      <td>-87.649603</td>\n",
       "      <td>casual</td>\n",
       "      <td>2020-10-01 00:00:06</td>\n",
       "      <td>2020-10-01 00:19:08</td>\n",
       "      <td>0 days 00:19:02</td>\n",
       "      <td>2020-10-01 00:00:00</td>\n",
       "      <td>Wednesday</td>\n",
       "    </tr>\n",
       "    <tr>\n",
       "      <th>1</th>\n",
       "      <td>152680</td>\n",
       "      <td>7B6F00FC8CFBD375</td>\n",
       "      <td>docked_bike</td>\n",
       "      <td>2020-10-01 00:00:30</td>\n",
       "      <td>2020-10-01 00:37:56</td>\n",
       "      <td>Leavitt St &amp; Archer Ave</td>\n",
       "      <td>9.0</td>\n",
       "      <td>Leavitt St &amp; Archer Ave</td>\n",
       "      <td>9.0</td>\n",
       "      <td>41.828792</td>\n",
       "      <td>-87.680604</td>\n",
       "      <td>41.828792</td>\n",
       "      <td>-87.680604</td>\n",
       "      <td>casual</td>\n",
       "      <td>2020-10-01 00:00:30</td>\n",
       "      <td>2020-10-01 00:37:56</td>\n",
       "      <td>0 days 00:37:26</td>\n",
       "      <td>2020-10-01 00:00:00</td>\n",
       "      <td>Wednesday</td>\n",
       "    </tr>\n",
       "    <tr>\n",
       "      <th>2</th>\n",
       "      <td>287868</td>\n",
       "      <td>783FEDE9D82022A5</td>\n",
       "      <td>electric_bike</td>\n",
       "      <td>2020-10-01 00:00:43</td>\n",
       "      <td>2020-10-01 00:08:32</td>\n",
       "      <td>Broadway &amp; Cornelia Ave</td>\n",
       "      <td>303.0</td>\n",
       "      <td>Southport Ave &amp; Belmont Ave</td>\n",
       "      <td>154.0</td>\n",
       "      <td>41.945549</td>\n",
       "      <td>-87.646465</td>\n",
       "      <td>41.939079</td>\n",
       "      <td>-87.663892</td>\n",
       "      <td>member</td>\n",
       "      <td>2020-10-01 00:00:43</td>\n",
       "      <td>2020-10-01 00:08:32</td>\n",
       "      <td>0 days 00:07:49</td>\n",
       "      <td>2020-10-01 00:00:00</td>\n",
       "      <td>Wednesday</td>\n",
       "    </tr>\n",
       "    <tr>\n",
       "      <th>3</th>\n",
       "      <td>111961</td>\n",
       "      <td>97FE368795B20D9E</td>\n",
       "      <td>electric_bike</td>\n",
       "      <td>2020-10-01 00:00:46</td>\n",
       "      <td>2020-10-01 00:08:11</td>\n",
       "      <td>Broadway &amp; Cornelia Ave</td>\n",
       "      <td>303.0</td>\n",
       "      <td>Southport Ave &amp; Belmont Ave</td>\n",
       "      <td>154.0</td>\n",
       "      <td>41.945530</td>\n",
       "      <td>-87.646452</td>\n",
       "      <td>41.939108</td>\n",
       "      <td>-87.663849</td>\n",
       "      <td>member</td>\n",
       "      <td>2020-10-01 00:00:46</td>\n",
       "      <td>2020-10-01 00:08:11</td>\n",
       "      <td>0 days 00:07:25</td>\n",
       "      <td>2020-10-01 00:00:00</td>\n",
       "      <td>Wednesday</td>\n",
       "    </tr>\n",
       "    <tr>\n",
       "      <th>4</th>\n",
       "      <td>4333</td>\n",
       "      <td>5403CD9766829B3D</td>\n",
       "      <td>electric_bike</td>\n",
       "      <td>2020-10-01 00:00:48</td>\n",
       "      <td>2020-10-01 00:12:35</td>\n",
       "      <td>Clark St &amp; Wellington Ave</td>\n",
       "      <td>156.0</td>\n",
       "      <td>Clark St &amp; Winnemac Ave</td>\n",
       "      <td>325.0</td>\n",
       "      <td>41.936500</td>\n",
       "      <td>-87.647550</td>\n",
       "      <td>41.973255</td>\n",
       "      <td>-87.669709</td>\n",
       "      <td>casual</td>\n",
       "      <td>2020-10-01 00:00:48</td>\n",
       "      <td>2020-10-01 00:12:35</td>\n",
       "      <td>0 days 00:11:47</td>\n",
       "      <td>2020-10-01 00:00:00</td>\n",
       "      <td>Wednesday</td>\n",
       "    </tr>\n",
       "    <tr>\n",
       "      <th>...</th>\n",
       "      <td>...</td>\n",
       "      <td>...</td>\n",
       "      <td>...</td>\n",
       "      <td>...</td>\n",
       "      <td>...</td>\n",
       "      <td>...</td>\n",
       "      <td>...</td>\n",
       "      <td>...</td>\n",
       "      <td>...</td>\n",
       "      <td>...</td>\n",
       "      <td>...</td>\n",
       "      <td>...</td>\n",
       "      <td>...</td>\n",
       "      <td>...</td>\n",
       "      <td>...</td>\n",
       "      <td>...</td>\n",
       "      <td>...</td>\n",
       "      <td>...</td>\n",
       "      <td>...</td>\n",
       "    </tr>\n",
       "    <tr>\n",
       "      <th>4354053</th>\n",
       "      <td>109179</td>\n",
       "      <td>B70FFAEA8E5A34EB</td>\n",
       "      <td>classic_bike</td>\n",
       "      <td>2021-09-30 23:58:37</td>\n",
       "      <td>2021-10-01 00:15:41</td>\n",
       "      <td>Clark St &amp; Lincoln Ave</td>\n",
       "      <td>13179</td>\n",
       "      <td>Ritchie Ct &amp; Banks St</td>\n",
       "      <td>KA1504000134</td>\n",
       "      <td>41.915689</td>\n",
       "      <td>-87.634600</td>\n",
       "      <td>41.906866</td>\n",
       "      <td>-87.626217</td>\n",
       "      <td>member</td>\n",
       "      <td>2021-09-30 23:58:37</td>\n",
       "      <td>2021-10-01 00:15:41</td>\n",
       "      <td>0 days 00:17:04</td>\n",
       "      <td>2021-09-30 00:00:00</td>\n",
       "      <td>Wednesday</td>\n",
       "    </tr>\n",
       "    <tr>\n",
       "      <th>4354054</th>\n",
       "      <td>32448</td>\n",
       "      <td>4D248C3CF607D3CB</td>\n",
       "      <td>classic_bike</td>\n",
       "      <td>2021-09-30 23:59:07</td>\n",
       "      <td>2021-10-01 00:04:44</td>\n",
       "      <td>Wabash Ave &amp; Roosevelt Rd</td>\n",
       "      <td>TA1305000002</td>\n",
       "      <td>State St &amp; Harrison St</td>\n",
       "      <td>SL-007</td>\n",
       "      <td>41.867227</td>\n",
       "      <td>-87.625961</td>\n",
       "      <td>41.874053</td>\n",
       "      <td>-87.627716</td>\n",
       "      <td>member</td>\n",
       "      <td>2021-09-30 23:59:07</td>\n",
       "      <td>2021-10-01 00:04:44</td>\n",
       "      <td>0 days 00:05:37</td>\n",
       "      <td>2021-09-30 00:00:00</td>\n",
       "      <td>Wednesday</td>\n",
       "    </tr>\n",
       "    <tr>\n",
       "      <th>4354055</th>\n",
       "      <td>623186</td>\n",
       "      <td>D10FFD88830F50EA</td>\n",
       "      <td>electric_bike</td>\n",
       "      <td>2021-09-30 23:59:16</td>\n",
       "      <td>2021-10-01 00:13:16</td>\n",
       "      <td>Ashland Ave &amp; Division St</td>\n",
       "      <td>13061</td>\n",
       "      <td>Peoria St &amp; Jackson Blvd</td>\n",
       "      <td>13158</td>\n",
       "      <td>41.903486</td>\n",
       "      <td>-87.667872</td>\n",
       "      <td>41.878253</td>\n",
       "      <td>-87.649827</td>\n",
       "      <td>casual</td>\n",
       "      <td>2021-09-30 23:59:16</td>\n",
       "      <td>2021-10-01 00:13:16</td>\n",
       "      <td>0 days 00:14:00</td>\n",
       "      <td>2021-09-30 00:00:00</td>\n",
       "      <td>Wednesday</td>\n",
       "    </tr>\n",
       "    <tr>\n",
       "      <th>4354056</th>\n",
       "      <td>73632</td>\n",
       "      <td>8D3EAC038013987F</td>\n",
       "      <td>docked_bike</td>\n",
       "      <td>2021-09-30 23:59:25</td>\n",
       "      <td>2021-10-01 00:11:41</td>\n",
       "      <td>Pine Grove Ave &amp; Irving Park Rd</td>\n",
       "      <td>TA1308000022</td>\n",
       "      <td>Broadway &amp; Barry Ave</td>\n",
       "      <td>13137</td>\n",
       "      <td>41.954383</td>\n",
       "      <td>-87.648043</td>\n",
       "      <td>41.937582</td>\n",
       "      <td>-87.644098</td>\n",
       "      <td>casual</td>\n",
       "      <td>2021-09-30 23:59:25</td>\n",
       "      <td>2021-10-01 00:11:41</td>\n",
       "      <td>0 days 00:12:16</td>\n",
       "      <td>2021-09-30 00:00:00</td>\n",
       "      <td>Wednesday</td>\n",
       "    </tr>\n",
       "    <tr>\n",
       "      <th>4354057</th>\n",
       "      <td>123219</td>\n",
       "      <td>BDB1A0BB7D48CC3D</td>\n",
       "      <td>electric_bike</td>\n",
       "      <td>2021-09-30 23:59:44</td>\n",
       "      <td>2021-10-01 00:49:47</td>\n",
       "      <td>Elizabeth (May) St &amp; Fulton St</td>\n",
       "      <td>13197</td>\n",
       "      <td>Lake Park Ave &amp; 47th St</td>\n",
       "      <td>TA1308000035</td>\n",
       "      <td>41.886574</td>\n",
       "      <td>-87.658446</td>\n",
       "      <td>41.838263</td>\n",
       "      <td>-87.607463</td>\n",
       "      <td>casual</td>\n",
       "      <td>2021-09-30 23:59:44</td>\n",
       "      <td>2021-10-01 00:49:47</td>\n",
       "      <td>0 days 00:50:03</td>\n",
       "      <td>2021-09-30 00:00:00</td>\n",
       "      <td>Wednesday</td>\n",
       "    </tr>\n",
       "  </tbody>\n",
       "</table>\n",
       "<p>4354058 rows × 19 columns</p>\n",
       "</div>"
      ],
      "text/plain": [
       "         Unnamed: 0           ride_id  rideable_type           started_at  \\\n",
       "0            223767  D7AF692CFFAF7D2C    docked_bike  2020-10-01 00:00:06   \n",
       "1            152680  7B6F00FC8CFBD375    docked_bike  2020-10-01 00:00:30   \n",
       "2            287868  783FEDE9D82022A5  electric_bike  2020-10-01 00:00:43   \n",
       "3            111961  97FE368795B20D9E  electric_bike  2020-10-01 00:00:46   \n",
       "4              4333  5403CD9766829B3D  electric_bike  2020-10-01 00:00:48   \n",
       "...             ...               ...            ...                  ...   \n",
       "4354053      109179  B70FFAEA8E5A34EB   classic_bike  2021-09-30 23:58:37   \n",
       "4354054       32448  4D248C3CF607D3CB   classic_bike  2021-09-30 23:59:07   \n",
       "4354055      623186  D10FFD88830F50EA  electric_bike  2021-09-30 23:59:16   \n",
       "4354056       73632  8D3EAC038013987F    docked_bike  2021-09-30 23:59:25   \n",
       "4354057      123219  BDB1A0BB7D48CC3D  electric_bike  2021-09-30 23:59:44   \n",
       "\n",
       "                    ended_at               start_station_name  \\\n",
       "0        2020-10-01 00:19:08      Lincoln Ave & Diversey Pkwy   \n",
       "1        2020-10-01 00:37:56          Leavitt St & Archer Ave   \n",
       "2        2020-10-01 00:08:32          Broadway & Cornelia Ave   \n",
       "3        2020-10-01 00:08:11          Broadway & Cornelia Ave   \n",
       "4        2020-10-01 00:12:35        Clark St & Wellington Ave   \n",
       "...                      ...                              ...   \n",
       "4354053  2021-10-01 00:15:41           Clark St & Lincoln Ave   \n",
       "4354054  2021-10-01 00:04:44        Wabash Ave & Roosevelt Rd   \n",
       "4354055  2021-10-01 00:13:16        Ashland Ave & Division St   \n",
       "4354056  2021-10-01 00:11:41  Pine Grove Ave & Irving Park Rd   \n",
       "4354057  2021-10-01 00:49:47   Elizabeth (May) St & Fulton St   \n",
       "\n",
       "        start_station_id             end_station_name end_station_id  \\\n",
       "0                  152.0   Clarendon Ave & Junior Ter          245.0   \n",
       "1                    9.0      Leavitt St & Archer Ave            9.0   \n",
       "2                  303.0  Southport Ave & Belmont Ave          154.0   \n",
       "3                  303.0  Southport Ave & Belmont Ave          154.0   \n",
       "4                  156.0      Clark St & Winnemac Ave          325.0   \n",
       "...                  ...                          ...            ...   \n",
       "4354053            13179        Ritchie Ct & Banks St   KA1504000134   \n",
       "4354054     TA1305000002       State St & Harrison St         SL-007   \n",
       "4354055            13061     Peoria St & Jackson Blvd          13158   \n",
       "4354056     TA1308000022         Broadway & Barry Ave          13137   \n",
       "4354057            13197      Lake Park Ave & 47th St   TA1308000035   \n",
       "\n",
       "         start_lat  start_lng    end_lat    end_lng member_casual  \\\n",
       "0        41.932225 -87.658617  41.961004 -87.649603        casual   \n",
       "1        41.828792 -87.680604  41.828792 -87.680604        casual   \n",
       "2        41.945549 -87.646465  41.939079 -87.663892        member   \n",
       "3        41.945530 -87.646452  41.939108 -87.663849        member   \n",
       "4        41.936500 -87.647550  41.973255 -87.669709        casual   \n",
       "...            ...        ...        ...        ...           ...   \n",
       "4354053  41.915689 -87.634600  41.906866 -87.626217        member   \n",
       "4354054  41.867227 -87.625961  41.874053 -87.627716        member   \n",
       "4354055  41.903486 -87.667872  41.878253 -87.649827        casual   \n",
       "4354056  41.954383 -87.648043  41.937582 -87.644098        casual   \n",
       "4354057  41.886574 -87.658446  41.838263 -87.607463        casual   \n",
       "\n",
       "                  start_time             end_time      ride_length  \\\n",
       "0        2020-10-01 00:00:06  2020-10-01 00:19:08  0 days 00:19:02   \n",
       "1        2020-10-01 00:00:30  2020-10-01 00:37:56  0 days 00:37:26   \n",
       "2        2020-10-01 00:00:43  2020-10-01 00:08:32  0 days 00:07:49   \n",
       "3        2020-10-01 00:00:46  2020-10-01 00:08:11  0 days 00:07:25   \n",
       "4        2020-10-01 00:00:48  2020-10-01 00:12:35  0 days 00:11:47   \n",
       "...                      ...                  ...              ...   \n",
       "4354053  2021-09-30 23:58:37  2021-10-01 00:15:41  0 days 00:17:04   \n",
       "4354054  2021-09-30 23:59:07  2021-10-01 00:04:44  0 days 00:05:37   \n",
       "4354055  2021-09-30 23:59:16  2021-10-01 00:13:16  0 days 00:14:00   \n",
       "4354056  2021-09-30 23:59:25  2021-10-01 00:11:41  0 days 00:12:16   \n",
       "4354057  2021-09-30 23:59:44  2021-10-01 00:49:47  0 days 00:50:03   \n",
       "\n",
       "                 start_date1   week_day  \n",
       "0        2020-10-01 00:00:00  Wednesday  \n",
       "1        2020-10-01 00:00:00  Wednesday  \n",
       "2        2020-10-01 00:00:00  Wednesday  \n",
       "3        2020-10-01 00:00:00  Wednesday  \n",
       "4        2020-10-01 00:00:00  Wednesday  \n",
       "...                      ...        ...  \n",
       "4354053  2021-09-30 00:00:00  Wednesday  \n",
       "4354054  2021-09-30 00:00:00  Wednesday  \n",
       "4354055  2021-09-30 00:00:00  Wednesday  \n",
       "4354056  2021-09-30 00:00:00  Wednesday  \n",
       "4354057  2021-09-30 00:00:00  Wednesday  \n",
       "\n",
       "[4354058 rows x 19 columns]"
      ]
     },
     "execution_count": 19,
     "metadata": {},
     "output_type": "execute_result"
    }
   ],
   "source": [
    "# Printing the cleaned dataframe\n",
    "cleaned_file"
   ]
  },
  {
   "cell_type": "code",
   "execution_count": 20,
   "metadata": {},
   "outputs": [
    {
     "data": {
      "text/plain": [
       "0          0.030158\n",
       "1          0.000000\n",
       "2          0.018589\n",
       "3          0.018544\n",
       "4          0.042917\n",
       "             ...   \n",
       "4354053    0.012170\n",
       "4354054    0.007048\n",
       "4354055    0.031022\n",
       "4354056    0.017258\n",
       "4354057    0.070236\n",
       "Name: distance, Length: 4354058, dtype: float64"
      ]
     },
     "execution_count": 20,
     "metadata": {},
     "output_type": "execute_result"
    }
   ],
   "source": [
    "# Calculationg the euclidean distance between start and end point\n",
    "cleaned_file[\"x\"] = (cleaned_file[\"end_lat\"] - cleaned_file[\"start_lat\"])**2\n",
    "cleaned_file[\"y\"] = (cleaned_file[\"end_lng\"] - cleaned_file[\"start_lng\"])**2\n",
    "cleaned_file[\"distance\"] = (cleaned_file[\"x\"] + cleaned_file[\"y\"])**(1/2)\n",
    "cleaned_file[\"distance\"]"
   ]
  },
  {
   "cell_type": "code",
   "execution_count": 21,
   "metadata": {},
   "outputs": [],
   "source": [
    "# Extracting year and month from start date column\n",
    "cleaned_file[\"year\"] = pd.DatetimeIndex(cleaned_file[\"start_date1\"]).year\n",
    "cleaned_file['month'] = pd.DatetimeIndex(cleaned_file[\"start_date1\"]).month"
   ]
  },
  {
   "cell_type": "code",
   "execution_count": 22,
   "metadata": {},
   "outputs": [],
   "source": [
    "# Converting object datatype to timedelta\n",
    "cleaned_file[\"ride_len\"] = pd.to_timedelta(cleaned_file[\"ride_length\"])"
   ]
  },
  {
   "cell_type": "code",
   "execution_count": 23,
   "metadata": {},
   "outputs": [
    {
     "data": {
      "text/html": [
       "<div>\n",
       "<style scoped>\n",
       "    .dataframe tbody tr th:only-of-type {\n",
       "        vertical-align: middle;\n",
       "    }\n",
       "\n",
       "    .dataframe tbody tr th {\n",
       "        vertical-align: top;\n",
       "    }\n",
       "\n",
       "    .dataframe thead th {\n",
       "        text-align: right;\n",
       "    }\n",
       "</style>\n",
       "<table border=\"1\" class=\"dataframe\">\n",
       "  <thead>\n",
       "    <tr style=\"text-align: right;\">\n",
       "      <th></th>\n",
       "      <th>Unnamed: 0</th>\n",
       "      <th>ride_id</th>\n",
       "      <th>rideable_type</th>\n",
       "      <th>started_at</th>\n",
       "      <th>ended_at</th>\n",
       "      <th>start_station_name</th>\n",
       "      <th>start_station_id</th>\n",
       "      <th>end_station_name</th>\n",
       "      <th>end_station_id</th>\n",
       "      <th>start_lat</th>\n",
       "      <th>...</th>\n",
       "      <th>end_time</th>\n",
       "      <th>ride_length</th>\n",
       "      <th>start_date1</th>\n",
       "      <th>week_day</th>\n",
       "      <th>x</th>\n",
       "      <th>y</th>\n",
       "      <th>distance</th>\n",
       "      <th>year</th>\n",
       "      <th>month</th>\n",
       "      <th>ride_len</th>\n",
       "    </tr>\n",
       "  </thead>\n",
       "  <tbody>\n",
       "    <tr>\n",
       "      <th>0</th>\n",
       "      <td>223767</td>\n",
       "      <td>D7AF692CFFAF7D2C</td>\n",
       "      <td>docked_bike</td>\n",
       "      <td>2020-10-01 00:00:06</td>\n",
       "      <td>2020-10-01 00:19:08</td>\n",
       "      <td>Lincoln Ave &amp; Diversey Pkwy</td>\n",
       "      <td>152.0</td>\n",
       "      <td>Clarendon Ave &amp; Junior Ter</td>\n",
       "      <td>245.0</td>\n",
       "      <td>41.932225</td>\n",
       "      <td>...</td>\n",
       "      <td>2020-10-01 00:19:08</td>\n",
       "      <td>0 days 00:19:02</td>\n",
       "      <td>2020-10-01 00:00:00</td>\n",
       "      <td>Wednesday</td>\n",
       "      <td>0.000828</td>\n",
       "      <td>0.000081</td>\n",
       "      <td>0.030158</td>\n",
       "      <td>2020</td>\n",
       "      <td>10</td>\n",
       "      <td>0 days 00:19:02</td>\n",
       "    </tr>\n",
       "    <tr>\n",
       "      <th>1</th>\n",
       "      <td>152680</td>\n",
       "      <td>7B6F00FC8CFBD375</td>\n",
       "      <td>docked_bike</td>\n",
       "      <td>2020-10-01 00:00:30</td>\n",
       "      <td>2020-10-01 00:37:56</td>\n",
       "      <td>Leavitt St &amp; Archer Ave</td>\n",
       "      <td>9.0</td>\n",
       "      <td>Leavitt St &amp; Archer Ave</td>\n",
       "      <td>9.0</td>\n",
       "      <td>41.828792</td>\n",
       "      <td>...</td>\n",
       "      <td>2020-10-01 00:37:56</td>\n",
       "      <td>0 days 00:37:26</td>\n",
       "      <td>2020-10-01 00:00:00</td>\n",
       "      <td>Wednesday</td>\n",
       "      <td>0.000000</td>\n",
       "      <td>0.000000</td>\n",
       "      <td>0.000000</td>\n",
       "      <td>2020</td>\n",
       "      <td>10</td>\n",
       "      <td>0 days 00:37:26</td>\n",
       "    </tr>\n",
       "    <tr>\n",
       "      <th>2</th>\n",
       "      <td>287868</td>\n",
       "      <td>783FEDE9D82022A5</td>\n",
       "      <td>electric_bike</td>\n",
       "      <td>2020-10-01 00:00:43</td>\n",
       "      <td>2020-10-01 00:08:32</td>\n",
       "      <td>Broadway &amp; Cornelia Ave</td>\n",
       "      <td>303.0</td>\n",
       "      <td>Southport Ave &amp; Belmont Ave</td>\n",
       "      <td>154.0</td>\n",
       "      <td>41.945549</td>\n",
       "      <td>...</td>\n",
       "      <td>2020-10-01 00:08:32</td>\n",
       "      <td>0 days 00:07:49</td>\n",
       "      <td>2020-10-01 00:00:00</td>\n",
       "      <td>Wednesday</td>\n",
       "      <td>0.000042</td>\n",
       "      <td>0.000304</td>\n",
       "      <td>0.018589</td>\n",
       "      <td>2020</td>\n",
       "      <td>10</td>\n",
       "      <td>0 days 00:07:49</td>\n",
       "    </tr>\n",
       "    <tr>\n",
       "      <th>3</th>\n",
       "      <td>111961</td>\n",
       "      <td>97FE368795B20D9E</td>\n",
       "      <td>electric_bike</td>\n",
       "      <td>2020-10-01 00:00:46</td>\n",
       "      <td>2020-10-01 00:08:11</td>\n",
       "      <td>Broadway &amp; Cornelia Ave</td>\n",
       "      <td>303.0</td>\n",
       "      <td>Southport Ave &amp; Belmont Ave</td>\n",
       "      <td>154.0</td>\n",
       "      <td>41.945530</td>\n",
       "      <td>...</td>\n",
       "      <td>2020-10-01 00:08:11</td>\n",
       "      <td>0 days 00:07:25</td>\n",
       "      <td>2020-10-01 00:00:00</td>\n",
       "      <td>Wednesday</td>\n",
       "      <td>0.000041</td>\n",
       "      <td>0.000303</td>\n",
       "      <td>0.018544</td>\n",
       "      <td>2020</td>\n",
       "      <td>10</td>\n",
       "      <td>0 days 00:07:25</td>\n",
       "    </tr>\n",
       "    <tr>\n",
       "      <th>4</th>\n",
       "      <td>4333</td>\n",
       "      <td>5403CD9766829B3D</td>\n",
       "      <td>electric_bike</td>\n",
       "      <td>2020-10-01 00:00:48</td>\n",
       "      <td>2020-10-01 00:12:35</td>\n",
       "      <td>Clark St &amp; Wellington Ave</td>\n",
       "      <td>156.0</td>\n",
       "      <td>Clark St &amp; Winnemac Ave</td>\n",
       "      <td>325.0</td>\n",
       "      <td>41.936500</td>\n",
       "      <td>...</td>\n",
       "      <td>2020-10-01 00:12:35</td>\n",
       "      <td>0 days 00:11:47</td>\n",
       "      <td>2020-10-01 00:00:00</td>\n",
       "      <td>Wednesday</td>\n",
       "      <td>0.001351</td>\n",
       "      <td>0.000491</td>\n",
       "      <td>0.042917</td>\n",
       "      <td>2020</td>\n",
       "      <td>10</td>\n",
       "      <td>0 days 00:11:47</td>\n",
       "    </tr>\n",
       "    <tr>\n",
       "      <th>...</th>\n",
       "      <td>...</td>\n",
       "      <td>...</td>\n",
       "      <td>...</td>\n",
       "      <td>...</td>\n",
       "      <td>...</td>\n",
       "      <td>...</td>\n",
       "      <td>...</td>\n",
       "      <td>...</td>\n",
       "      <td>...</td>\n",
       "      <td>...</td>\n",
       "      <td>...</td>\n",
       "      <td>...</td>\n",
       "      <td>...</td>\n",
       "      <td>...</td>\n",
       "      <td>...</td>\n",
       "      <td>...</td>\n",
       "      <td>...</td>\n",
       "      <td>...</td>\n",
       "      <td>...</td>\n",
       "      <td>...</td>\n",
       "      <td>...</td>\n",
       "    </tr>\n",
       "    <tr>\n",
       "      <th>4354053</th>\n",
       "      <td>109179</td>\n",
       "      <td>B70FFAEA8E5A34EB</td>\n",
       "      <td>classic_bike</td>\n",
       "      <td>2021-09-30 23:58:37</td>\n",
       "      <td>2021-10-01 00:15:41</td>\n",
       "      <td>Clark St &amp; Lincoln Ave</td>\n",
       "      <td>13179</td>\n",
       "      <td>Ritchie Ct &amp; Banks St</td>\n",
       "      <td>KA1504000134</td>\n",
       "      <td>41.915689</td>\n",
       "      <td>...</td>\n",
       "      <td>2021-10-01 00:15:41</td>\n",
       "      <td>0 days 00:17:04</td>\n",
       "      <td>2021-09-30 00:00:00</td>\n",
       "      <td>Wednesday</td>\n",
       "      <td>0.000078</td>\n",
       "      <td>0.000070</td>\n",
       "      <td>0.012170</td>\n",
       "      <td>2021</td>\n",
       "      <td>9</td>\n",
       "      <td>0 days 00:17:04</td>\n",
       "    </tr>\n",
       "    <tr>\n",
       "      <th>4354054</th>\n",
       "      <td>32448</td>\n",
       "      <td>4D248C3CF607D3CB</td>\n",
       "      <td>classic_bike</td>\n",
       "      <td>2021-09-30 23:59:07</td>\n",
       "      <td>2021-10-01 00:04:44</td>\n",
       "      <td>Wabash Ave &amp; Roosevelt Rd</td>\n",
       "      <td>TA1305000002</td>\n",
       "      <td>State St &amp; Harrison St</td>\n",
       "      <td>SL-007</td>\n",
       "      <td>41.867227</td>\n",
       "      <td>...</td>\n",
       "      <td>2021-10-01 00:04:44</td>\n",
       "      <td>0 days 00:05:37</td>\n",
       "      <td>2021-09-30 00:00:00</td>\n",
       "      <td>Wednesday</td>\n",
       "      <td>0.000047</td>\n",
       "      <td>0.000003</td>\n",
       "      <td>0.007048</td>\n",
       "      <td>2021</td>\n",
       "      <td>9</td>\n",
       "      <td>0 days 00:05:37</td>\n",
       "    </tr>\n",
       "    <tr>\n",
       "      <th>4354055</th>\n",
       "      <td>623186</td>\n",
       "      <td>D10FFD88830F50EA</td>\n",
       "      <td>electric_bike</td>\n",
       "      <td>2021-09-30 23:59:16</td>\n",
       "      <td>2021-10-01 00:13:16</td>\n",
       "      <td>Ashland Ave &amp; Division St</td>\n",
       "      <td>13061</td>\n",
       "      <td>Peoria St &amp; Jackson Blvd</td>\n",
       "      <td>13158</td>\n",
       "      <td>41.903486</td>\n",
       "      <td>...</td>\n",
       "      <td>2021-10-01 00:13:16</td>\n",
       "      <td>0 days 00:14:00</td>\n",
       "      <td>2021-09-30 00:00:00</td>\n",
       "      <td>Wednesday</td>\n",
       "      <td>0.000637</td>\n",
       "      <td>0.000326</td>\n",
       "      <td>0.031022</td>\n",
       "      <td>2021</td>\n",
       "      <td>9</td>\n",
       "      <td>0 days 00:14:00</td>\n",
       "    </tr>\n",
       "    <tr>\n",
       "      <th>4354056</th>\n",
       "      <td>73632</td>\n",
       "      <td>8D3EAC038013987F</td>\n",
       "      <td>docked_bike</td>\n",
       "      <td>2021-09-30 23:59:25</td>\n",
       "      <td>2021-10-01 00:11:41</td>\n",
       "      <td>Pine Grove Ave &amp; Irving Park Rd</td>\n",
       "      <td>TA1308000022</td>\n",
       "      <td>Broadway &amp; Barry Ave</td>\n",
       "      <td>13137</td>\n",
       "      <td>41.954383</td>\n",
       "      <td>...</td>\n",
       "      <td>2021-10-01 00:11:41</td>\n",
       "      <td>0 days 00:12:16</td>\n",
       "      <td>2021-09-30 00:00:00</td>\n",
       "      <td>Wednesday</td>\n",
       "      <td>0.000282</td>\n",
       "      <td>0.000016</td>\n",
       "      <td>0.017258</td>\n",
       "      <td>2021</td>\n",
       "      <td>9</td>\n",
       "      <td>0 days 00:12:16</td>\n",
       "    </tr>\n",
       "    <tr>\n",
       "      <th>4354057</th>\n",
       "      <td>123219</td>\n",
       "      <td>BDB1A0BB7D48CC3D</td>\n",
       "      <td>electric_bike</td>\n",
       "      <td>2021-09-30 23:59:44</td>\n",
       "      <td>2021-10-01 00:49:47</td>\n",
       "      <td>Elizabeth (May) St &amp; Fulton St</td>\n",
       "      <td>13197</td>\n",
       "      <td>Lake Park Ave &amp; 47th St</td>\n",
       "      <td>TA1308000035</td>\n",
       "      <td>41.886574</td>\n",
       "      <td>...</td>\n",
       "      <td>2021-10-01 00:49:47</td>\n",
       "      <td>0 days 00:50:03</td>\n",
       "      <td>2021-09-30 00:00:00</td>\n",
       "      <td>Wednesday</td>\n",
       "      <td>0.002334</td>\n",
       "      <td>0.002599</td>\n",
       "      <td>0.070236</td>\n",
       "      <td>2021</td>\n",
       "      <td>9</td>\n",
       "      <td>0 days 00:50:03</td>\n",
       "    </tr>\n",
       "  </tbody>\n",
       "</table>\n",
       "<p>4354058 rows × 25 columns</p>\n",
       "</div>"
      ],
      "text/plain": [
       "         Unnamed: 0           ride_id  rideable_type           started_at  \\\n",
       "0            223767  D7AF692CFFAF7D2C    docked_bike  2020-10-01 00:00:06   \n",
       "1            152680  7B6F00FC8CFBD375    docked_bike  2020-10-01 00:00:30   \n",
       "2            287868  783FEDE9D82022A5  electric_bike  2020-10-01 00:00:43   \n",
       "3            111961  97FE368795B20D9E  electric_bike  2020-10-01 00:00:46   \n",
       "4              4333  5403CD9766829B3D  electric_bike  2020-10-01 00:00:48   \n",
       "...             ...               ...            ...                  ...   \n",
       "4354053      109179  B70FFAEA8E5A34EB   classic_bike  2021-09-30 23:58:37   \n",
       "4354054       32448  4D248C3CF607D3CB   classic_bike  2021-09-30 23:59:07   \n",
       "4354055      623186  D10FFD88830F50EA  electric_bike  2021-09-30 23:59:16   \n",
       "4354056       73632  8D3EAC038013987F    docked_bike  2021-09-30 23:59:25   \n",
       "4354057      123219  BDB1A0BB7D48CC3D  electric_bike  2021-09-30 23:59:44   \n",
       "\n",
       "                    ended_at               start_station_name  \\\n",
       "0        2020-10-01 00:19:08      Lincoln Ave & Diversey Pkwy   \n",
       "1        2020-10-01 00:37:56          Leavitt St & Archer Ave   \n",
       "2        2020-10-01 00:08:32          Broadway & Cornelia Ave   \n",
       "3        2020-10-01 00:08:11          Broadway & Cornelia Ave   \n",
       "4        2020-10-01 00:12:35        Clark St & Wellington Ave   \n",
       "...                      ...                              ...   \n",
       "4354053  2021-10-01 00:15:41           Clark St & Lincoln Ave   \n",
       "4354054  2021-10-01 00:04:44        Wabash Ave & Roosevelt Rd   \n",
       "4354055  2021-10-01 00:13:16        Ashland Ave & Division St   \n",
       "4354056  2021-10-01 00:11:41  Pine Grove Ave & Irving Park Rd   \n",
       "4354057  2021-10-01 00:49:47   Elizabeth (May) St & Fulton St   \n",
       "\n",
       "        start_station_id             end_station_name end_station_id  \\\n",
       "0                  152.0   Clarendon Ave & Junior Ter          245.0   \n",
       "1                    9.0      Leavitt St & Archer Ave            9.0   \n",
       "2                  303.0  Southport Ave & Belmont Ave          154.0   \n",
       "3                  303.0  Southport Ave & Belmont Ave          154.0   \n",
       "4                  156.0      Clark St & Winnemac Ave          325.0   \n",
       "...                  ...                          ...            ...   \n",
       "4354053            13179        Ritchie Ct & Banks St   KA1504000134   \n",
       "4354054     TA1305000002       State St & Harrison St         SL-007   \n",
       "4354055            13061     Peoria St & Jackson Blvd          13158   \n",
       "4354056     TA1308000022         Broadway & Barry Ave          13137   \n",
       "4354057            13197      Lake Park Ave & 47th St   TA1308000035   \n",
       "\n",
       "         start_lat  ...             end_time      ride_length  \\\n",
       "0        41.932225  ...  2020-10-01 00:19:08  0 days 00:19:02   \n",
       "1        41.828792  ...  2020-10-01 00:37:56  0 days 00:37:26   \n",
       "2        41.945549  ...  2020-10-01 00:08:32  0 days 00:07:49   \n",
       "3        41.945530  ...  2020-10-01 00:08:11  0 days 00:07:25   \n",
       "4        41.936500  ...  2020-10-01 00:12:35  0 days 00:11:47   \n",
       "...            ...  ...                  ...              ...   \n",
       "4354053  41.915689  ...  2021-10-01 00:15:41  0 days 00:17:04   \n",
       "4354054  41.867227  ...  2021-10-01 00:04:44  0 days 00:05:37   \n",
       "4354055  41.903486  ...  2021-10-01 00:13:16  0 days 00:14:00   \n",
       "4354056  41.954383  ...  2021-10-01 00:11:41  0 days 00:12:16   \n",
       "4354057  41.886574  ...  2021-10-01 00:49:47  0 days 00:50:03   \n",
       "\n",
       "                 start_date1   week_day         x         y  distance  year  \\\n",
       "0        2020-10-01 00:00:00  Wednesday  0.000828  0.000081  0.030158  2020   \n",
       "1        2020-10-01 00:00:00  Wednesday  0.000000  0.000000  0.000000  2020   \n",
       "2        2020-10-01 00:00:00  Wednesday  0.000042  0.000304  0.018589  2020   \n",
       "3        2020-10-01 00:00:00  Wednesday  0.000041  0.000303  0.018544  2020   \n",
       "4        2020-10-01 00:00:00  Wednesday  0.001351  0.000491  0.042917  2020   \n",
       "...                      ...        ...       ...       ...       ...   ...   \n",
       "4354053  2021-09-30 00:00:00  Wednesday  0.000078  0.000070  0.012170  2021   \n",
       "4354054  2021-09-30 00:00:00  Wednesday  0.000047  0.000003  0.007048  2021   \n",
       "4354055  2021-09-30 00:00:00  Wednesday  0.000637  0.000326  0.031022  2021   \n",
       "4354056  2021-09-30 00:00:00  Wednesday  0.000282  0.000016  0.017258  2021   \n",
       "4354057  2021-09-30 00:00:00  Wednesday  0.002334  0.002599  0.070236  2021   \n",
       "\n",
       "        month        ride_len  \n",
       "0          10 0 days 00:19:02  \n",
       "1          10 0 days 00:37:26  \n",
       "2          10 0 days 00:07:49  \n",
       "3          10 0 days 00:07:25  \n",
       "4          10 0 days 00:11:47  \n",
       "...       ...             ...  \n",
       "4354053     9 0 days 00:17:04  \n",
       "4354054     9 0 days 00:05:37  \n",
       "4354055     9 0 days 00:14:00  \n",
       "4354056     9 0 days 00:12:16  \n",
       "4354057     9 0 days 00:50:03  \n",
       "\n",
       "[4354058 rows x 25 columns]"
      ]
     },
     "execution_count": 23,
     "metadata": {},
     "output_type": "execute_result"
    }
   ],
   "source": [
    "# Print the cleaned dataframe\n",
    "cleaned_file"
   ]
  },
  {
   "cell_type": "code",
   "execution_count": 24,
   "metadata": {},
   "outputs": [
    {
     "data": {
      "text/plain": [
       "Unnamed: 0            0\n",
       "ride_id               0\n",
       "rideable_type         0\n",
       "started_at            0\n",
       "ended_at              0\n",
       "start_station_name    0\n",
       "start_station_id      0\n",
       "end_station_name      0\n",
       "end_station_id        0\n",
       "start_lat             0\n",
       "start_lng             0\n",
       "end_lat               0\n",
       "end_lng               0\n",
       "member_casual         0\n",
       "start_time            0\n",
       "end_time              0\n",
       "ride_length           0\n",
       "start_date1           0\n",
       "week_day              0\n",
       "x                     0\n",
       "y                     0\n",
       "distance              0\n",
       "year                  0\n",
       "month                 0\n",
       "ride_len              0\n",
       "dtype: int64"
      ]
     },
     "execution_count": 24,
     "metadata": {},
     "output_type": "execute_result"
    }
   ],
   "source": [
    "# Checking if there are null values in the dataframe\n",
    "cleaned_file.isnull().sum()"
   ]
  },
  {
   "cell_type": "code",
   "execution_count": 25,
   "metadata": {},
   "outputs": [
    {
     "data": {
      "text/plain": [
       "False"
      ]
     },
     "execution_count": 25,
     "metadata": {},
     "output_type": "execute_result"
    }
   ],
   "source": [
    "# Checking if there are any duplicate values in the dataframe\n",
    "cleaned_file.duplicated().any()"
   ]
  },
  {
   "cell_type": "markdown",
   "metadata": {},
   "source": [
    "# __Data Processing__\n",
    "***\n",
    "\n",
    "### Key tasks\n",
    "\n",
    "• Aggregate the data so it’s useful and accessible.<br>\n",
    "• Organize and format the data.<br>\n",
    "• Perform calculations.<br>\n",
    "• Identify trends and relationships."
   ]
  },
  {
   "cell_type": "code",
   "execution_count": 26,
   "metadata": {},
   "outputs": [
    {
     "data": {
      "text/plain": [
       "Timedelta('0 days 00:20:33.983478860')"
      ]
     },
     "execution_count": 26,
     "metadata": {},
     "output_type": "execute_result"
    }
   ],
   "source": [
    "# To calculate the mean of ride length of all types of users\n",
    "mean_ride_length = cleaned_file[\"ride_len\"].mean()\n",
    "mean_ride_length"
   ]
  },
  {
   "cell_type": "code",
   "execution_count": 27,
   "metadata": {},
   "outputs": [
    {
     "data": {
      "text/plain": [
       "Timedelta('38 days 20:24:09')"
      ]
     },
     "execution_count": 27,
     "metadata": {},
     "output_type": "execute_result"
    }
   ],
   "source": [
    "# To calculate the max ride_length of all types of users\n",
    "max_ride_length = cleaned_file[\"ride_len\"].max()\n",
    "max_ride_length"
   ]
  },
  {
   "cell_type": "code",
   "execution_count": 28,
   "metadata": {},
   "outputs": [
    {
     "data": {
      "text/plain": [
       "Timedelta('0 days 00:10:34.852203954')"
      ]
     },
     "execution_count": 28,
     "metadata": {},
     "output_type": "execute_result"
    }
   ],
   "source": [
    "# To calculate the mean ride lenght for member\n",
    "mean_ride_length_member = cleaned_file[cleaned_file[\"member_casual\"] == \"member\"]\n",
    "mean_ride_length_member = mean_ride_length_member[\"ride_len\"].mean()\n",
    "mean_ride_length_member"
   ]
  },
  {
   "cell_type": "code",
   "execution_count": 29,
   "metadata": {},
   "outputs": [
    {
     "data": {
      "text/plain": [
       "Timedelta('0 days 00:32:42.678905101')"
      ]
     },
     "execution_count": 29,
     "metadata": {},
     "output_type": "execute_result"
    }
   ],
   "source": [
    "# To calculate the mean ride lenght for casual riders\n",
    "mean_ride_length_casual = cleaned_file[cleaned_file[\"member_casual\"] == \"casual\"]\n",
    "mean_ride_length_casual = mean_ride_length_casual[\"ride_len\"].mean()\n",
    "mean_ride_length_casual\n"
   ]
  },
  {
   "cell_type": "code",
   "execution_count": 30,
   "metadata": {},
   "outputs": [
    {
     "data": {
      "text/plain": [
       "Timedelta('6 days 15:17:47')"
      ]
     },
     "execution_count": 30,
     "metadata": {},
     "output_type": "execute_result"
    }
   ],
   "source": [
    "# To calculate max ride length for member\n",
    "max_ride_length_member = cleaned_file[cleaned_file[\"member_casual\"] == \"member\"]\n",
    "max_ride_length_member = max_ride_length_member[\"ride_len\"].max()\n",
    "max_ride_length_member"
   ]
  },
  {
   "cell_type": "code",
   "execution_count": 31,
   "metadata": {},
   "outputs": [
    {
     "data": {
      "text/plain": [
       "Timedelta('38 days 20:24:09')"
      ]
     },
     "execution_count": 31,
     "metadata": {},
     "output_type": "execute_result"
    }
   ],
   "source": [
    "# To calculate max ride lenght for casual riders\n",
    "max_ride_length_casual = cleaned_file[cleaned_file[\"member_casual\"] == \"casual\"]\n",
    "max_ride_length_casual = max_ride_length_casual[\"ride_len\"].max()\n",
    "max_ride_length_casual"
   ]
  },
  {
   "cell_type": "code",
   "execution_count": 32,
   "metadata": {},
   "outputs": [
    {
     "data": {
      "text/plain": [
       "0    Friday\n",
       "dtype: object"
      ]
     },
     "execution_count": 32,
     "metadata": {},
     "output_type": "execute_result"
    }
   ],
   "source": [
    "# Calculating the mode of week_day for all types of users\n",
    "mode_week_day = cleaned_file[\"week_day\"].mode()\n",
    "mode_week_day"
   ]
  },
  {
   "cell_type": "code",
   "execution_count": 33,
   "metadata": {},
   "outputs": [
    {
     "data": {
      "text/plain": [
       "0    Tuesday\n",
       "dtype: object"
      ]
     },
     "execution_count": 33,
     "metadata": {},
     "output_type": "execute_result"
    }
   ],
   "source": [
    "# Calculating the mode of week_day for member\n",
    "mode_week_day_member = cleaned_file[cleaned_file[\"member_casual\"] == \"member\"]\n",
    "mode_week_day_member = mode_week_day_member[\"week_day\"].mode()\n",
    "mode_week_day_member"
   ]
  },
  {
   "cell_type": "code",
   "execution_count": 34,
   "metadata": {},
   "outputs": [
    {
     "data": {
      "text/plain": [
       "0    Friday\n",
       "dtype: object"
      ]
     },
     "execution_count": 34,
     "metadata": {},
     "output_type": "execute_result"
    }
   ],
   "source": [
    "# Calculating the mode of week_day for causal riders\n",
    "mode_week_day_casual = cleaned_file[cleaned_file[\"member_casual\"] == \"casual\"]\n",
    "mode_week_day_casual = mode_week_day_casual[\"week_day\"].mode()\n",
    "mode_week_day_casual"
   ]
  },
  {
   "cell_type": "code",
   "execution_count": 35,
   "metadata": {},
   "outputs": [
    {
     "data": {
      "text/plain": [
       "week_day\n",
       "0    543361\n",
       "1    555507\n",
       "2    574953\n",
       "3    584942\n",
       "4    625520\n",
       "5    791961\n",
       "6    677814\n",
       "Name: ride_id, dtype: int64"
      ]
     },
     "execution_count": 35,
     "metadata": {},
     "output_type": "execute_result"
    }
   ],
   "source": [
    "# Calculating the number of rides for users by week_day by adding Count of ride_id to Values\n",
    "dict1 = {\"Sunday\": 0, \"Monday\": 1, \"Tuesday\": 2, \"Wednesday\": 3, \"Thursday\": 4, \"Friday\": 5, \"Saturday\": 6}\n",
    "cleaned_file[\"week_day\"] = cleaned_file[\"week_day\"].apply(lambda y: dict1[y])\n",
    "\n",
    "count_users_week_day = cleaned_file.groupby(\"week_day\")[\"ride_id\"].count()\n",
    "count_users_week_day = count_users_week_day.sort_index()\n",
    "count_users_week_day"
   ]
  },
  {
   "cell_type": "code",
   "execution_count": 36,
   "metadata": {},
   "outputs": [
    {
     "data": {
      "text/plain": [
       "week_day\n",
       "0    324231\n",
       "1    351805\n",
       "2    366328\n",
       "3    362309\n",
       "4    346524\n",
       "5    342371\n",
       "6    295887\n",
       "Name: ride_id, dtype: int64"
      ]
     },
     "execution_count": 36,
     "metadata": {},
     "output_type": "execute_result"
    }
   ],
   "source": [
    "# Calculationg the number of rides for member by week_day by adding Count of ride_id to Values\n",
    "count_member_week_day = cleaned_file[cleaned_file[\"member_casual\"] == \"member\"].groupby(\"week_day\")[\"ride_id\"].count()\n",
    "count_member_week_day"
   ]
  },
  {
   "cell_type": "code",
   "execution_count": 37,
   "metadata": {},
   "outputs": [
    {
     "data": {
      "text/plain": [
       "week_day\n",
       "0    219130\n",
       "1    203702\n",
       "2    208625\n",
       "3    222633\n",
       "4    278996\n",
       "5    449590\n",
       "6    381927\n",
       "Name: ride_id, dtype: int64"
      ]
     },
     "execution_count": 37,
     "metadata": {},
     "output_type": "execute_result"
    }
   ],
   "source": [
    "# Calculationg the number of rides for casual riders by week_day by adding Count of ride_id to Values\n",
    "count_casual_week_day = cleaned_file[cleaned_file[\"member_casual\"] == \"casual\"].groupby(\n",
    "    \"week_day\")[\"ride_id\"].count()\n",
    "count_casual_week_day"
   ]
  },
  {
   "cell_type": "code",
   "execution_count": 38,
   "metadata": {},
   "outputs": [
    {
     "data": {
      "image/png": "[encoded data removed]",
      "text/plain": [
       "<Figure size 576x432 with 1 Axes>"
      ]
     },
     "metadata": {
      "needs_background": "light"
     },
     "output_type": "display_data"
    }
   ],
   "source": [
    "# Plotting the graph of Weekday vs Number of Rides\n",
    "plt.figure(figsize= (8,6))\n",
    "plt.plot(count_users_week_day.index, count_users_week_day.values)\n",
    "plt.plot(count_member_week_day.index, count_member_week_day.values)\n",
    "plt.plot(count_casual_week_day.index, count_casual_week_day.values)\n",
    "plt.title(\"Numbers of rides for different users by week_day by adding Count of ride_id to Values\")\n",
    "plt.legend([\"User\", \"Member\", \"Casual\"])\n",
    "labels = [\"Sunday\", \"Monday\", \"Tuesday\", \"Wednesday\", \"Thursday\", \"Friday\", \"Saturday\"]\n",
    "plt.xticks(count_casual_week_day.index, labels)\n",
    "plt.show()"
   ]
  },
  {
   "cell_type": "code",
   "execution_count": 39,
   "metadata": {},
   "outputs": [
    {
     "data": {
      "text/plain": [
       "week_day\n",
       "0   0 days 00:21:12.927663192\n",
       "1   0 days 00:02:57.900044463\n",
       "2   0 days 00:18:51.056849864\n",
       "3   0 days 00:18:53.259511199\n",
       "4   0 days 00:21:47.765564650\n",
       "5   0 days 00:27:05.834071374\n",
       "6   0 days 00:28:36.585026275\n",
       "Name: ride_len, dtype: timedelta64[ns]"
      ]
     },
     "execution_count": 39,
     "metadata": {},
     "output_type": "execute_result"
    }
   ],
   "source": [
    "# Calculating the average ride_length for users by week_day\n",
    "user_avg_ride_len_week_day = cleaned_file.groupby(\"week_day\")[\"ride_len\"].mean(numeric_only=False)\n",
    "user_avg_ride_len_week_day"
   ]
  },
  {
   "cell_type": "code",
   "execution_count": 40,
   "metadata": {},
   "outputs": [
    {
     "data": {
      "text/plain": [
       "week_day\n",
       "0     0 days 00:13:06.591473363\n",
       "1   -1 days +23:51:50.335870724\n",
       "2     0 days 00:12:57.334186848\n",
       "3     0 days 00:12:50.726068080\n",
       "4     0 days 00:13:27.102241114\n",
       "5     0 days 00:15:16.415254212\n",
       "6     0 days 00:15:35.306887426\n",
       "Name: ride_len, dtype: timedelta64[ns]"
      ]
     },
     "execution_count": 40,
     "metadata": {},
     "output_type": "execute_result"
    }
   ],
   "source": [
    "# Calculating the average ride_length for members by week_day\n",
    "member_avg_ride_len_week_day = cleaned_file[cleaned_file[\"member_casual\"] == \"member\"].groupby(\n",
    "    \"week_day\")[\"ride_len\"].mean(numeric_only=False)\n",
    "member_avg_ride_len_week_day"
   ]
  },
  {
   "cell_type": "code",
   "execution_count": 41,
   "metadata": {},
   "outputs": [
    {
     "data": {
      "text/plain": [
       "week_day\n",
       "0   0 days 00:33:12.524565326\n",
       "1   0 days 00:22:10.821538325\n",
       "2   0 days 00:29:12.164174955\n",
       "3   0 days 00:28:43.240013834\n",
       "4   0 days 00:32:09.609094754\n",
       "5   0 days 00:36:06.069463288\n",
       "6   0 days 00:38:41.857878599\n",
       "Name: ride_len, dtype: timedelta64[ns]"
      ]
     },
     "execution_count": 41,
     "metadata": {},
     "output_type": "execute_result"
    }
   ],
   "source": [
    "# Calculating the average ride_length for casual riders by week_day\n",
    "casual_avg_ride_len_week_day = cleaned_file[cleaned_file[\"member_casual\"] == \"casual\"].groupby(\n",
    "    \"week_day\")[\"ride_len\"].mean(numeric_only=False)\n",
    "casual_avg_ride_len_week_day"
   ]
  },
  {
   "cell_type": "code",
   "execution_count": 42,
   "metadata": {},
   "outputs": [
    {
     "data": {
      "image/png": "[encoded data removed]",
      "text/plain": [
       "<Figure size 576x432 with 1 Axes>"
      ]
     },
     "metadata": {
      "needs_background": "light"
     },
     "output_type": "display_data"
    }
   ],
   "source": [
    "# Plotting the graph of Weekday vs Average ride length\n",
    "plt.figure(figsize=(8, 6))\n",
    "plt.plot(user_avg_ride_len_week_day/pd.Timedelta(minutes=1))\n",
    "plt.plot(member_avg_ride_len_week_day/pd.Timedelta(minutes=1))\n",
    "plt.plot(casual_avg_ride_len_week_day/pd.Timedelta(minutes=1))\n",
    "plt.title(\"The average ride_length for different users by week_day\")\n",
    "plt.legend([\"User\", \"Member\", \"Casual\"])\n",
    "labels = [\"Sunday\", \"Monday\", \"Tuesday\",\n",
    "          \"Wednesday\", \"Thursday\", \"Friday\", \"Saturday\"]\n",
    "plt.xticks(user_avg_ride_len_week_day.index, labels)\n",
    "plt.show()"
   ]
  },
  {
   "cell_type": "code",
   "execution_count": 43,
   "metadata": {},
   "outputs": [
    {
     "data": {
      "text/html": [
       "<div>\n",
       "<style scoped>\n",
       "    .dataframe tbody tr th:only-of-type {\n",
       "        vertical-align: middle;\n",
       "    }\n",
       "\n",
       "    .dataframe tbody tr th {\n",
       "        vertical-align: top;\n",
       "    }\n",
       "\n",
       "    .dataframe thead th {\n",
       "        text-align: right;\n",
       "    }\n",
       "</style>\n",
       "<table border=\"1\" class=\"dataframe\">\n",
       "  <thead>\n",
       "    <tr style=\"text-align: right;\">\n",
       "      <th></th>\n",
       "      <th>Unnamed: 0</th>\n",
       "      <th>ride_id</th>\n",
       "      <th>rideable_type</th>\n",
       "      <th>started_at</th>\n",
       "      <th>ended_at</th>\n",
       "      <th>start_station_name</th>\n",
       "      <th>start_station_id</th>\n",
       "      <th>end_station_name</th>\n",
       "      <th>end_station_id</th>\n",
       "      <th>start_lat</th>\n",
       "      <th>...</th>\n",
       "      <th>end_time</th>\n",
       "      <th>ride_length</th>\n",
       "      <th>start_date1</th>\n",
       "      <th>week_day</th>\n",
       "      <th>x</th>\n",
       "      <th>y</th>\n",
       "      <th>distance</th>\n",
       "      <th>year</th>\n",
       "      <th>month</th>\n",
       "      <th>ride_len</th>\n",
       "    </tr>\n",
       "  </thead>\n",
       "  <tbody>\n",
       "    <tr>\n",
       "      <th>0</th>\n",
       "      <td>223767</td>\n",
       "      <td>D7AF692CFFAF7D2C</td>\n",
       "      <td>docked_bike</td>\n",
       "      <td>2020-10-01 00:00:06</td>\n",
       "      <td>2020-10-01 00:19:08</td>\n",
       "      <td>Lincoln Ave &amp; Diversey Pkwy</td>\n",
       "      <td>152.0</td>\n",
       "      <td>Clarendon Ave &amp; Junior Ter</td>\n",
       "      <td>245.0</td>\n",
       "      <td>41.932225</td>\n",
       "      <td>...</td>\n",
       "      <td>2020-10-01 00:19:08</td>\n",
       "      <td>0 days 00:19:02</td>\n",
       "      <td>2020-10-01 00:00:00</td>\n",
       "      <td>3</td>\n",
       "      <td>0.000828</td>\n",
       "      <td>0.000081</td>\n",
       "      <td>0.030158</td>\n",
       "      <td>2020</td>\n",
       "      <td>10</td>\n",
       "      <td>0 days 00:19:02</td>\n",
       "    </tr>\n",
       "    <tr>\n",
       "      <th>1</th>\n",
       "      <td>152680</td>\n",
       "      <td>7B6F00FC8CFBD375</td>\n",
       "      <td>docked_bike</td>\n",
       "      <td>2020-10-01 00:00:30</td>\n",
       "      <td>2020-10-01 00:37:56</td>\n",
       "      <td>Leavitt St &amp; Archer Ave</td>\n",
       "      <td>9.0</td>\n",
       "      <td>Leavitt St &amp; Archer Ave</td>\n",
       "      <td>9.0</td>\n",
       "      <td>41.828792</td>\n",
       "      <td>...</td>\n",
       "      <td>2020-10-01 00:37:56</td>\n",
       "      <td>0 days 00:37:26</td>\n",
       "      <td>2020-10-01 00:00:00</td>\n",
       "      <td>3</td>\n",
       "      <td>0.000000</td>\n",
       "      <td>0.000000</td>\n",
       "      <td>0.000000</td>\n",
       "      <td>2020</td>\n",
       "      <td>10</td>\n",
       "      <td>0 days 00:37:26</td>\n",
       "    </tr>\n",
       "    <tr>\n",
       "      <th>2</th>\n",
       "      <td>287868</td>\n",
       "      <td>783FEDE9D82022A5</td>\n",
       "      <td>electric_bike</td>\n",
       "      <td>2020-10-01 00:00:43</td>\n",
       "      <td>2020-10-01 00:08:32</td>\n",
       "      <td>Broadway &amp; Cornelia Ave</td>\n",
       "      <td>303.0</td>\n",
       "      <td>Southport Ave &amp; Belmont Ave</td>\n",
       "      <td>154.0</td>\n",
       "      <td>41.945549</td>\n",
       "      <td>...</td>\n",
       "      <td>2020-10-01 00:08:32</td>\n",
       "      <td>0 days 00:07:49</td>\n",
       "      <td>2020-10-01 00:00:00</td>\n",
       "      <td>3</td>\n",
       "      <td>0.000042</td>\n",
       "      <td>0.000304</td>\n",
       "      <td>0.018589</td>\n",
       "      <td>2020</td>\n",
       "      <td>10</td>\n",
       "      <td>0 days 00:07:49</td>\n",
       "    </tr>\n",
       "    <tr>\n",
       "      <th>3</th>\n",
       "      <td>111961</td>\n",
       "      <td>97FE368795B20D9E</td>\n",
       "      <td>electric_bike</td>\n",
       "      <td>2020-10-01 00:00:46</td>\n",
       "      <td>2020-10-01 00:08:11</td>\n",
       "      <td>Broadway &amp; Cornelia Ave</td>\n",
       "      <td>303.0</td>\n",
       "      <td>Southport Ave &amp; Belmont Ave</td>\n",
       "      <td>154.0</td>\n",
       "      <td>41.945530</td>\n",
       "      <td>...</td>\n",
       "      <td>2020-10-01 00:08:11</td>\n",
       "      <td>0 days 00:07:25</td>\n",
       "      <td>2020-10-01 00:00:00</td>\n",
       "      <td>3</td>\n",
       "      <td>0.000041</td>\n",
       "      <td>0.000303</td>\n",
       "      <td>0.018544</td>\n",
       "      <td>2020</td>\n",
       "      <td>10</td>\n",
       "      <td>0 days 00:07:25</td>\n",
       "    </tr>\n",
       "    <tr>\n",
       "      <th>4</th>\n",
       "      <td>4333</td>\n",
       "      <td>5403CD9766829B3D</td>\n",
       "      <td>electric_bike</td>\n",
       "      <td>2020-10-01 00:00:48</td>\n",
       "      <td>2020-10-01 00:12:35</td>\n",
       "      <td>Clark St &amp; Wellington Ave</td>\n",
       "      <td>156.0</td>\n",
       "      <td>Clark St &amp; Winnemac Ave</td>\n",
       "      <td>325.0</td>\n",
       "      <td>41.936500</td>\n",
       "      <td>...</td>\n",
       "      <td>2020-10-01 00:12:35</td>\n",
       "      <td>0 days 00:11:47</td>\n",
       "      <td>2020-10-01 00:00:00</td>\n",
       "      <td>3</td>\n",
       "      <td>0.001351</td>\n",
       "      <td>0.000491</td>\n",
       "      <td>0.042917</td>\n",
       "      <td>2020</td>\n",
       "      <td>10</td>\n",
       "      <td>0 days 00:11:47</td>\n",
       "    </tr>\n",
       "    <tr>\n",
       "      <th>...</th>\n",
       "      <td>...</td>\n",
       "      <td>...</td>\n",
       "      <td>...</td>\n",
       "      <td>...</td>\n",
       "      <td>...</td>\n",
       "      <td>...</td>\n",
       "      <td>...</td>\n",
       "      <td>...</td>\n",
       "      <td>...</td>\n",
       "      <td>...</td>\n",
       "      <td>...</td>\n",
       "      <td>...</td>\n",
       "      <td>...</td>\n",
       "      <td>...</td>\n",
       "      <td>...</td>\n",
       "      <td>...</td>\n",
       "      <td>...</td>\n",
       "      <td>...</td>\n",
       "      <td>...</td>\n",
       "      <td>...</td>\n",
       "      <td>...</td>\n",
       "    </tr>\n",
       "    <tr>\n",
       "      <th>4354053</th>\n",
       "      <td>109179</td>\n",
       "      <td>B70FFAEA8E5A34EB</td>\n",
       "      <td>classic_bike</td>\n",
       "      <td>2021-09-30 23:58:37</td>\n",
       "      <td>2021-10-01 00:15:41</td>\n",
       "      <td>Clark St &amp; Lincoln Ave</td>\n",
       "      <td>13179</td>\n",
       "      <td>Ritchie Ct &amp; Banks St</td>\n",
       "      <td>KA1504000134</td>\n",
       "      <td>41.915689</td>\n",
       "      <td>...</td>\n",
       "      <td>2021-10-01 00:15:41</td>\n",
       "      <td>0 days 00:17:04</td>\n",
       "      <td>2021-09-30 00:00:00</td>\n",
       "      <td>3</td>\n",
       "      <td>0.000078</td>\n",
       "      <td>0.000070</td>\n",
       "      <td>0.012170</td>\n",
       "      <td>2021</td>\n",
       "      <td>9</td>\n",
       "      <td>0 days 00:17:04</td>\n",
       "    </tr>\n",
       "    <tr>\n",
       "      <th>4354054</th>\n",
       "      <td>32448</td>\n",
       "      <td>4D248C3CF607D3CB</td>\n",
       "      <td>classic_bike</td>\n",
       "      <td>2021-09-30 23:59:07</td>\n",
       "      <td>2021-10-01 00:04:44</td>\n",
       "      <td>Wabash Ave &amp; Roosevelt Rd</td>\n",
       "      <td>TA1305000002</td>\n",
       "      <td>State St &amp; Harrison St</td>\n",
       "      <td>SL-007</td>\n",
       "      <td>41.867227</td>\n",
       "      <td>...</td>\n",
       "      <td>2021-10-01 00:04:44</td>\n",
       "      <td>0 days 00:05:37</td>\n",
       "      <td>2021-09-30 00:00:00</td>\n",
       "      <td>3</td>\n",
       "      <td>0.000047</td>\n",
       "      <td>0.000003</td>\n",
       "      <td>0.007048</td>\n",
       "      <td>2021</td>\n",
       "      <td>9</td>\n",
       "      <td>0 days 00:05:37</td>\n",
       "    </tr>\n",
       "    <tr>\n",
       "      <th>4354055</th>\n",
       "      <td>623186</td>\n",
       "      <td>D10FFD88830F50EA</td>\n",
       "      <td>electric_bike</td>\n",
       "      <td>2021-09-30 23:59:16</td>\n",
       "      <td>2021-10-01 00:13:16</td>\n",
       "      <td>Ashland Ave &amp; Division St</td>\n",
       "      <td>13061</td>\n",
       "      <td>Peoria St &amp; Jackson Blvd</td>\n",
       "      <td>13158</td>\n",
       "      <td>41.903486</td>\n",
       "      <td>...</td>\n",
       "      <td>2021-10-01 00:13:16</td>\n",
       "      <td>0 days 00:14:00</td>\n",
       "      <td>2021-09-30 00:00:00</td>\n",
       "      <td>3</td>\n",
       "      <td>0.000637</td>\n",
       "      <td>0.000326</td>\n",
       "      <td>0.031022</td>\n",
       "      <td>2021</td>\n",
       "      <td>9</td>\n",
       "      <td>0 days 00:14:00</td>\n",
       "    </tr>\n",
       "    <tr>\n",
       "      <th>4354056</th>\n",
       "      <td>73632</td>\n",
       "      <td>8D3EAC038013987F</td>\n",
       "      <td>docked_bike</td>\n",
       "      <td>2021-09-30 23:59:25</td>\n",
       "      <td>2021-10-01 00:11:41</td>\n",
       "      <td>Pine Grove Ave &amp; Irving Park Rd</td>\n",
       "      <td>TA1308000022</td>\n",
       "      <td>Broadway &amp; Barry Ave</td>\n",
       "      <td>13137</td>\n",
       "      <td>41.954383</td>\n",
       "      <td>...</td>\n",
       "      <td>2021-10-01 00:11:41</td>\n",
       "      <td>0 days 00:12:16</td>\n",
       "      <td>2021-09-30 00:00:00</td>\n",
       "      <td>3</td>\n",
       "      <td>0.000282</td>\n",
       "      <td>0.000016</td>\n",
       "      <td>0.017258</td>\n",
       "      <td>2021</td>\n",
       "      <td>9</td>\n",
       "      <td>0 days 00:12:16</td>\n",
       "    </tr>\n",
       "    <tr>\n",
       "      <th>4354057</th>\n",
       "      <td>123219</td>\n",
       "      <td>BDB1A0BB7D48CC3D</td>\n",
       "      <td>electric_bike</td>\n",
       "      <td>2021-09-30 23:59:44</td>\n",
       "      <td>2021-10-01 00:49:47</td>\n",
       "      <td>Elizabeth (May) St &amp; Fulton St</td>\n",
       "      <td>13197</td>\n",
       "      <td>Lake Park Ave &amp; 47th St</td>\n",
       "      <td>TA1308000035</td>\n",
       "      <td>41.886574</td>\n",
       "      <td>...</td>\n",
       "      <td>2021-10-01 00:49:47</td>\n",
       "      <td>0 days 00:50:03</td>\n",
       "      <td>2021-09-30 00:00:00</td>\n",
       "      <td>3</td>\n",
       "      <td>0.002334</td>\n",
       "      <td>0.002599</td>\n",
       "      <td>0.070236</td>\n",
       "      <td>2021</td>\n",
       "      <td>9</td>\n",
       "      <td>0 days 00:50:03</td>\n",
       "    </tr>\n",
       "  </tbody>\n",
       "</table>\n",
       "<p>4354058 rows × 25 columns</p>\n",
       "</div>"
      ],
      "text/plain": [
       "         Unnamed: 0           ride_id  rideable_type           started_at  \\\n",
       "0            223767  D7AF692CFFAF7D2C    docked_bike  2020-10-01 00:00:06   \n",
       "1            152680  7B6F00FC8CFBD375    docked_bike  2020-10-01 00:00:30   \n",
       "2            287868  783FEDE9D82022A5  electric_bike  2020-10-01 00:00:43   \n",
       "3            111961  97FE368795B20D9E  electric_bike  2020-10-01 00:00:46   \n",
       "4              4333  5403CD9766829B3D  electric_bike  2020-10-01 00:00:48   \n",
       "...             ...               ...            ...                  ...   \n",
       "4354053      109179  B70FFAEA8E5A34EB   classic_bike  2021-09-30 23:58:37   \n",
       "4354054       32448  4D248C3CF607D3CB   classic_bike  2021-09-30 23:59:07   \n",
       "4354055      623186  D10FFD88830F50EA  electric_bike  2021-09-30 23:59:16   \n",
       "4354056       73632  8D3EAC038013987F    docked_bike  2021-09-30 23:59:25   \n",
       "4354057      123219  BDB1A0BB7D48CC3D  electric_bike  2021-09-30 23:59:44   \n",
       "\n",
       "                    ended_at               start_station_name  \\\n",
       "0        2020-10-01 00:19:08      Lincoln Ave & Diversey Pkwy   \n",
       "1        2020-10-01 00:37:56          Leavitt St & Archer Ave   \n",
       "2        2020-10-01 00:08:32          Broadway & Cornelia Ave   \n",
       "3        2020-10-01 00:08:11          Broadway & Cornelia Ave   \n",
       "4        2020-10-01 00:12:35        Clark St & Wellington Ave   \n",
       "...                      ...                              ...   \n",
       "4354053  2021-10-01 00:15:41           Clark St & Lincoln Ave   \n",
       "4354054  2021-10-01 00:04:44        Wabash Ave & Roosevelt Rd   \n",
       "4354055  2021-10-01 00:13:16        Ashland Ave & Division St   \n",
       "4354056  2021-10-01 00:11:41  Pine Grove Ave & Irving Park Rd   \n",
       "4354057  2021-10-01 00:49:47   Elizabeth (May) St & Fulton St   \n",
       "\n",
       "        start_station_id             end_station_name end_station_id  \\\n",
       "0                  152.0   Clarendon Ave & Junior Ter          245.0   \n",
       "1                    9.0      Leavitt St & Archer Ave            9.0   \n",
       "2                  303.0  Southport Ave & Belmont Ave          154.0   \n",
       "3                  303.0  Southport Ave & Belmont Ave          154.0   \n",
       "4                  156.0      Clark St & Winnemac Ave          325.0   \n",
       "...                  ...                          ...            ...   \n",
       "4354053            13179        Ritchie Ct & Banks St   KA1504000134   \n",
       "4354054     TA1305000002       State St & Harrison St         SL-007   \n",
       "4354055            13061     Peoria St & Jackson Blvd          13158   \n",
       "4354056     TA1308000022         Broadway & Barry Ave          13137   \n",
       "4354057            13197      Lake Park Ave & 47th St   TA1308000035   \n",
       "\n",
       "         start_lat  ...             end_time      ride_length  \\\n",
       "0        41.932225  ...  2020-10-01 00:19:08  0 days 00:19:02   \n",
       "1        41.828792  ...  2020-10-01 00:37:56  0 days 00:37:26   \n",
       "2        41.945549  ...  2020-10-01 00:08:32  0 days 00:07:49   \n",
       "3        41.945530  ...  2020-10-01 00:08:11  0 days 00:07:25   \n",
       "4        41.936500  ...  2020-10-01 00:12:35  0 days 00:11:47   \n",
       "...            ...  ...                  ...              ...   \n",
       "4354053  41.915689  ...  2021-10-01 00:15:41  0 days 00:17:04   \n",
       "4354054  41.867227  ...  2021-10-01 00:04:44  0 days 00:05:37   \n",
       "4354055  41.903486  ...  2021-10-01 00:13:16  0 days 00:14:00   \n",
       "4354056  41.954383  ...  2021-10-01 00:11:41  0 days 00:12:16   \n",
       "4354057  41.886574  ...  2021-10-01 00:49:47  0 days 00:50:03   \n",
       "\n",
       "                 start_date1 week_day         x         y  distance  year  \\\n",
       "0        2020-10-01 00:00:00        3  0.000828  0.000081  0.030158  2020   \n",
       "1        2020-10-01 00:00:00        3  0.000000  0.000000  0.000000  2020   \n",
       "2        2020-10-01 00:00:00        3  0.000042  0.000304  0.018589  2020   \n",
       "3        2020-10-01 00:00:00        3  0.000041  0.000303  0.018544  2020   \n",
       "4        2020-10-01 00:00:00        3  0.001351  0.000491  0.042917  2020   \n",
       "...                      ...      ...       ...       ...       ...   ...   \n",
       "4354053  2021-09-30 00:00:00        3  0.000078  0.000070  0.012170  2021   \n",
       "4354054  2021-09-30 00:00:00        3  0.000047  0.000003  0.007048  2021   \n",
       "4354055  2021-09-30 00:00:00        3  0.000637  0.000326  0.031022  2021   \n",
       "4354056  2021-09-30 00:00:00        3  0.000282  0.000016  0.017258  2021   \n",
       "4354057  2021-09-30 00:00:00        3  0.002334  0.002599  0.070236  2021   \n",
       "\n",
       "         month        ride_len  \n",
       "0           10 0 days 00:19:02  \n",
       "1           10 0 days 00:37:26  \n",
       "2           10 0 days 00:07:49  \n",
       "3           10 0 days 00:07:25  \n",
       "4           10 0 days 00:11:47  \n",
       "...        ...             ...  \n",
       "4354053      9 0 days 00:17:04  \n",
       "4354054      9 0 days 00:05:37  \n",
       "4354055      9 0 days 00:14:00  \n",
       "4354056      9 0 days 00:12:16  \n",
       "4354057      9 0 days 00:50:03  \n",
       "\n",
       "[4354058 rows x 25 columns]"
      ]
     },
     "execution_count": 43,
     "metadata": {},
     "output_type": "execute_result"
    }
   ],
   "source": [
    "cleaned_file"
   ]
  },
  {
   "cell_type": "code",
   "execution_count": 44,
   "metadata": {},
   "outputs": [],
   "source": [
    "# Extracting important features of the dataframe into a new dataframe\n",
    "final_file = cleaned_file[[\"ride_id\", \"rideable_type\", \"ride_len\", \"week_day\", \"distance\", \"year\", \"month\", \"member_casual\"]]"
   ]
  },
  {
   "cell_type": "code",
   "execution_count": 45,
   "metadata": {},
   "outputs": [
    {
     "name": "stdout",
     "output_type": "stream",
     "text": [
      "<class 'pandas.core.frame.DataFrame'>\n",
      "RangeIndex: 4354058 entries, 0 to 4354057\n",
      "Data columns (total 8 columns):\n",
      " #   Column         Dtype          \n",
      "---  ------         -----          \n",
      " 0   ride_id        object         \n",
      " 1   rideable_type  object         \n",
      " 2   ride_len       timedelta64[ns]\n",
      " 3   week_day       int64          \n",
      " 4   distance       float64        \n",
      " 5   year           int64          \n",
      " 6   month          int64          \n",
      " 7   member_casual  object         \n",
      "dtypes: float64(1), int64(3), object(3), timedelta64[ns](1)\n",
      "memory usage: 265.8+ MB\n"
     ]
    }
   ],
   "source": [
    "# Getting the information of the dataframe\n",
    "final_file.info()"
   ]
  },
  {
   "cell_type": "markdown",
   "metadata": {},
   "source": [
    "# __Data Analysis__\n",
    "***\n",
    "### Key tasks\n",
    "\n",
    "• Aggregate your data so it’s useful and accessible.<br>\n",
    "• Organize and format your data.<br>\n",
    "• Perform calculations.<br>\n",
    "• Identify trends and relationships.<br>"
   ]
  },
  {
   "cell_type": "code",
   "execution_count": 46,
   "metadata": {},
   "outputs": [
    {
     "data": {
      "text/plain": [
       "member    2389455\n",
       "casual    1964603\n",
       "Name: member_casual, dtype: int64"
      ]
     },
     "execution_count": 46,
     "metadata": {},
     "output_type": "execute_result"
    }
   ],
   "source": [
    "# Checking the number of users in each type over past 12 months\n",
    "member_type = final_file[\"member_casual\"].value_counts()\n",
    "member_type"
   ]
  },
  {
   "cell_type": "code",
   "execution_count": 47,
   "metadata": {},
   "outputs": [
    {
     "data": {
      "image/png": "[encoded data removed]",
      "text/plain": [
       "<Figure size 576x432 with 1 Axes>"
      ]
     },
     "metadata": {
      "needs_background": "light"
     },
     "output_type": "display_data"
    }
   ],
   "source": [
    "# Plotting the count plot of users in each type\n",
    "plt.figure(figsize=(8, 6))\n",
    "plt.bar(member_type.index, member_type.values)\n",
    "labels = [\"Member\", \"Casual Riders\"]\n",
    "plt.xticks(member_type.index, labels)\n",
    "plt.show()"
   ]
  },
  {
   "cell_type": "code",
   "execution_count": 60,
   "metadata": {},
   "outputs": [
    {
     "name": "stderr",
     "output_type": "stream",
     "text": [
      "/var/folders/vr/1m72b4sx44ngm9zt11tv75280000gn/T/ipykernel_71654/1452492054.py:5: UserWarning: You have mixed positional and keyword arguments, some input may be discarded.\n",
      "  plt.legend(member_type.index, labels= [\"Member\", \"Casual Riders\"])\n"
     ]
    },
    {
     "data": {
      "image/png": "[encoded data removed]",
      "text/plain": [
       "<Figure size 576x432 with 1 Axes>"
      ]
     },
     "metadata": {},
     "output_type": "display_data"
    }
   ],
   "source": [
    "# Plotting a pie chart of users in each type\n",
    "plt.figure(figsize=(8, 6))\n",
    "plt.pie(member_type.values, autopct=\"%1.1f%%\")\n",
    "plt.title(\"Percentage of users in each type\")\n",
    "plt.legend(member_type.index, labels= [\"Member\", \"Casual Riders\"])\n",
    "plt.show()"
   ]
  },
  {
   "cell_type": "code",
   "execution_count": 49,
   "metadata": {},
   "outputs": [
    {
     "data": {
      "text/plain": [
       "year  member_casual\n",
       "2020  member            455608\n",
       "      casual            220395\n",
       "2021  member           1933847\n",
       "      casual           1744208\n",
       "Name: member_casual, dtype: int64"
      ]
     },
     "execution_count": 49,
     "metadata": {},
     "output_type": "execute_result"
    }
   ],
   "source": [
    "# Checking the number of users over years\n",
    "users_over_year = final_file.groupby(\"year\")[\"member_casual\"].value_counts()\n",
    "users_over_year"
   ]
  },
  {
   "cell_type": "code",
   "execution_count": 50,
   "metadata": {},
   "outputs": [],
   "source": [
    "# Segregating the number of users into member or casual riders over the years\n",
    "list_year = []\n",
    "list_x = []\n",
    "list_y = list(users_over_year.values)\n",
    "for i, j in users_over_year.index:\n",
    "    list_x.append(j)\n",
    "    list_year.append(str(i))"
   ]
  },
  {
   "cell_type": "code",
   "execution_count": 51,
   "metadata": {},
   "outputs": [
    {
     "name": "stderr",
     "output_type": "stream",
     "text": [
      "/Users/Marco/opt/miniconda3/envs/minimal_ds/lib/python3.9/site-packages/seaborn/_decorators.py:36: FutureWarning: Pass the following variables as keyword args: x, y. From version 0.12, the only valid positional argument will be `data`, and passing other arguments without an explicit keyword will result in an error or misinterpretation.\n",
      "  warnings.warn(\n"
     ]
    },
    {
     "data": {
      "text/plain": [
       "Text(0.5, 1.0, 'Count of Member and Casual Riders over years')"
      ]
     },
     "execution_count": 51,
     "metadata": {},
     "output_type": "execute_result"
    },
    {
     "data": {
      "image/png": "[encoded data removed]",
      "text/plain": [
       "<Figure size 576x432 with 1 Axes>"
      ]
     },
     "metadata": {
      "needs_background": "light"
     },
     "output_type": "display_data"
    }
   ],
   "source": [
    "# Plotting the count of Member and Casual riders over years\n",
    "plt.figure(figsize=(8, 6))\n",
    "labels = [\"Member\", \"Casual Riders\"]\n",
    "ax = sns.barplot(list_x, list_y, hue=list_year)\n",
    "ax.set_xticklabels(labels)\n",
    "plt.title(\"Count of Member and Casual Riders over years\")\n"
   ]
  },
  {
   "cell_type": "code",
   "execution_count": 52,
   "metadata": {},
   "outputs": [
    {
     "data": {
      "text/plain": [
       "month  member_casual\n",
       "1      member            68819\n",
       "       casual            14690\n",
       "2      member            34383\n",
       "       casual             8613\n",
       "3      member           130049\n",
       "       casual            75642\n",
       "4      member           177787\n",
       "       casual           120420\n",
       "5      member           234165\n",
       "       casual           216829\n",
       "6      member           304586\n",
       "       casual           304192\n",
       "7      casual           369415\n",
       "       member           322906\n",
       "8      casual           341476\n",
       "       member           332933\n",
       "9      member           328219\n",
       "       casual           292931\n",
       "10     member           216493\n",
       "       casual           122810\n",
       "11     member           149756\n",
       "       casual            73033\n",
       "12     member            89359\n",
       "       casual            24552\n",
       "Name: member_casual, dtype: int64"
      ]
     },
     "execution_count": 52,
     "metadata": {},
     "output_type": "execute_result"
    }
   ],
   "source": [
    "# Checking the number of users over months\n",
    "users_over_month = final_file.groupby(\"month\")[\"member_casual\"].value_counts()\n",
    "users_over_month"
   ]
  },
  {
   "cell_type": "code",
   "execution_count": 53,
   "metadata": {},
   "outputs": [],
   "source": [
    "# Segregating the number of users into member or casual riders over months\n",
    "list_month = []\n",
    "list_x = []\n",
    "list_y = list(users_over_month.values)\n",
    "for i, j in users_over_month.index:\n",
    "    list_x.append(j)\n",
    "    list_month.append(str(i))"
   ]
  },
  {
   "cell_type": "code",
   "execution_count": 54,
   "metadata": {},
   "outputs": [
    {
     "name": "stderr",
     "output_type": "stream",
     "text": [
      "/Users/Marco/opt/miniconda3/envs/minimal_ds/lib/python3.9/site-packages/seaborn/_decorators.py:36: FutureWarning: Pass the following variables as keyword args: x, y. From version 0.12, the only valid positional argument will be `data`, and passing other arguments without an explicit keyword will result in an error or misinterpretation.\n",
      "  warnings.warn(\n"
     ]
    },
    {
     "data": {
      "text/plain": [
       "Text(0.5, 1.0, 'Count of Member and Casual Riders over months')"
      ]
     },
     "execution_count": 54,
     "metadata": {},
     "output_type": "execute_result"
    },
    {
     "data": {
      "image/png": "[encoded data removed]",
      "text/plain": [
       "<Figure size 1296x576 with 1 Axes>"
      ]
     },
     "metadata": {
      "needs_background": "light"
     },
     "output_type": "display_data"
    }
   ],
   "source": [
    "# Plotting the count of Member and Casual riders over months\n",
    "plt.figure(figsize=(18, 8))\n",
    "ax = sns.barplot(list_x, list_y, hue=list_month)\n",
    "labels = [\"Member\", \"Casual Riders\"]\n",
    "ax.set_xticklabels(labels)\n",
    "plt.title(\"Count of Member and Casual Riders over months\")\n"
   ]
  },
  {
   "cell_type": "code",
   "execution_count": 55,
   "metadata": {},
   "outputs": [
    {
     "data": {
      "text/plain": [
       "member_casual  rideable_type\n",
       "casual         classic_bike     1116293\n",
       "               electric_bike     440807\n",
       "               docked_bike       407503\n",
       "member         classic_bike     1627016\n",
       "               electric_bike     492753\n",
       "               docked_bike       269686\n",
       "Name: rideable_type, dtype: int64"
      ]
     },
     "execution_count": 55,
     "metadata": {},
     "output_type": "execute_result"
    }
   ],
   "source": [
    "# To check the number of users for a particular rideable_type\n",
    "ride_type = final_file.groupby(\"member_casual\")[\"rideable_type\"].value_counts()\n",
    "ride_type"
   ]
  },
  {
   "cell_type": "code",
   "execution_count": 56,
   "metadata": {},
   "outputs": [],
   "source": [
    "#Segregating the number of users into member or causal riders bases on ride type\n",
    "list_member = []\n",
    "list_x = []\n",
    "list_y = list(ride_type.values)\n",
    "for i, j in ride_type.index:\n",
    "    list_x.append(j)\n",
    "    list_member.append(str(i))"
   ]
  },
  {
   "cell_type": "code",
   "execution_count": 62,
   "metadata": {},
   "outputs": [
    {
     "name": "stderr",
     "output_type": "stream",
     "text": [
      "/Users/Marco/opt/miniconda3/envs/minimal_ds/lib/python3.9/site-packages/seaborn/_decorators.py:36: FutureWarning: Pass the following variables as keyword args: x, y. From version 0.12, the only valid positional argument will be `data`, and passing other arguments without an explicit keyword will result in an error or misinterpretation.\n",
      "  warnings.warn(\n"
     ]
    },
    {
     "data": {
      "text/plain": [
       "Text(0.5, 1.0, 'Count of Member and Casual Riders based on ride type')"
      ]
     },
     "execution_count": 62,
     "metadata": {},
     "output_type": "execute_result"
    },
    {
     "data": {
      "image/png": "[encoded data removed]",
      "text/plain": [
       "<Figure size 1296x576 with 1 Axes>"
      ]
     },
     "metadata": {
      "needs_background": "light"
     },
     "output_type": "display_data"
    }
   ],
   "source": [
    "# Plotting the number of users into member and casual riders based on ride type\n",
    "plt.figure(figsize=(18, 8))\n",
    "ax = sns.barplot(list_x, list_y, hue=list_member)\n",
    "labels = [\"Classic Bike\", \"Electric Bike\", \"Docked Bike\"]\n",
    "ax.set_xticklabels(labels)\n",
    "ax.set_ylabel(\"x 1,000,000 Rides\")\n",
    "plt.title(\"Count of Member and Casual Riders based on ride type\")\n"
   ]
  }
 ],
 "metadata": {
  "interpreter": {
   "hash": "7e24afed5a170d6f272a315e60f13972e0bbfaa3f0e50908301863fc45f21aef"
  },
  "kernelspec": {
   "display_name": "Python 3.9.7 64-bit ('minimal_ds': conda)",
   "name": "python3"
  },
  "language_info": {
   "codemirror_mode": {
    "name": "ipython",
    "version": 3
   },
   "file_extension": ".py",
   "mimetype": "text/x-python",
   "name": "python",
   "nbconvert_exporter": "python",
   "pygments_lexer": "ipython3",
   "version": "3.9.7"
  },
  "orig_nbformat": 4
 },
 "nbformat": 4,
 "nbformat_minor": 2
}
